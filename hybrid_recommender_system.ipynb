{
  "cells": [
    {
      "cell_type": "markdown",
      "metadata": {
        "id": "eJvusMic4a_b"
      },
      "source": [
        "# A Hybrid Recommender System for Mobile App Stores: Tackling Sparsity in User Ratings\n",
        "\n",
        "---\n",
        "\n",
        "This notebook implements a hybrid recommender system that combines collaborative filtering with content-based filtering to enhance recommendation accuracy for users with limited historical interactions in mobile app stores.\n"
      ]
    },
    {
      "cell_type": "markdown",
      "metadata": {
        "id": "VffDpD5L0V3r"
      },
      "source": [
        "## Objective\n",
        "The goal of this project is to develop a recommender system for mobile apps, addressing the sparsity challenge inherent in user-item rating matrices. By combining collaborative filtering with content-based filtering, the aim is to enhance recommendation accuracy for users with limited historical interactions."
      ]
    },
    {
      "cell_type": "markdown",
      "metadata": {
        "id": "WvwfNw1l2dYP"
      },
      "source": [
        "## Setup & Dependencies\n",
        "\n",
        "**Prerequisites**: Make sure you have installed all required packages by running:\n",
        "```bash\n",
        "pip install -r requirements.txt\n",
        "```\n",
        "\n",
        "The following cells will set up the environment and load necessary libraries."
      ]
    },
    {
      "cell_type": "code",
      "execution_count": null,
      "metadata": {
        "colab": {
          "base_uri": "https://localhost:8080/"
        },
        "id": "1UjLo9AHRiu_",
        "outputId": "616beeb1-c5eb-440c-cc7f-f06047267cc6"
      },
      "outputs": [
        {
          "name": "stdout",
          "output_type": "stream",
          "text": [
            "Environment setup complete!\n",
            "\n",
            "Note: You may need to authenticate with Hugging Face to access the dataset.\n",
            "If the dataset loading fails, run the next cell to login.\n"
          ]
        }
      ],
      "source": [
        "# Setup for local environment\n",
        "import os\n",
        "from huggingface_hub import login\n",
        "\n",
        "# Create necessary directories\n",
        "os.makedirs('data', exist_ok=True)\n",
        "os.makedirs('models', exist_ok=True)\n",
        "os.makedirs('results', exist_ok=True)\n",
        "\n",
        "print(\"Environment setup complete!\")\n",
        "print(\"\\nNote: You may need to authenticate with Hugging Face to access the dataset.\")\n",
        "print(\"If the dataset loading fails, run the next cell to login.\")"
      ]
    },
    {
      "cell_type": "code",
      "execution_count": null,
      "metadata": {
        "id": "MXyMNi9UiN4B"
      },
      "outputs": [],
      "source": [
        "# os.environ[\"HF_TOKEN\"] = \"Replace with your own token\"\n"
      ]
    },
    {
      "cell_type": "markdown",
      "metadata": {
        "id": "E9dzPOgtLAwB"
      },
      "source": [
        "## Load Core Libraries"
      ]
    },
    {
      "cell_type": "code",
      "execution_count": null,
      "metadata": {
        "id": "scytSWcSY1jC"
      },
      "outputs": [],
      "source": [
        "import pandas as pd\n",
        "import numpy as np\n",
        "import matplotlib.pyplot as plt\n",
        "import seaborn as sns\n",
        "import os\n",
        "import re\n",
        "import random\n",
        "import pickle\n",
        "import joblib\n",
        "import warnings\n",
        "from itertools import product\n",
        "from datasets import load_dataset\n",
        "from sklearn.model_selection import train_test_split\n",
        "from sklearn.metrics import mean_squared_error, mean_absolute_error\n",
        "from sklearn.feature_extraction.text import TfidfVectorizer\n",
        "from sklearn.neighbors import NearestNeighbors\n",
        "from surprise import Dataset, Reader, accuracy\n",
        "from surprise import NormalPredictor, BaselineOnly, KNNBaseline, KNNWithZScore\n",
        "from surprise import SVD, SVDpp, NMF\n",
        "from tqdm import tqdm\n",
        "\n",
        "warnings.filterwarnings('ignore')\n",
        "random.seed(123)\n",
        "np.random.seed(123)"
      ]
    },
    {
      "cell_type": "markdown",
      "metadata": {
        "id": "i0m1iTqxL2Kb"
      },
      "source": [
        "## Load and Sample 3,000 Users from a 19.3 Million-Row Interaction Dataset on Hugging Face + Data Preprocessing"
      ]
    },
    {
      "cell_type": "code",
      "execution_count": 26,
      "metadata": {
        "colab": {
          "base_uri": "https://localhost:8080/"
        },
        "id": "eBlc9RDLirRi",
        "outputId": "9538fbb7-cf55-4d42-f41b-0016c7e53e42"
      },
      "outputs": [
        {
          "name": "stdout",
          "output_type": "stream",
          "text": [
            "✓ Dataset loaded successfully!\n"
          ]
        },
        {
          "name": "stderr",
          "output_type": "stream",
          "text": [
            "  1%|          | 195455/19300000 [00:03<05:53, 54117.76it/s]\n",
            "100%|█████████▉| 19297019/19300000 [05:09<00:00, 62409.24it/s]"
          ]
        },
        {
          "name": "stdout",
          "output_type": "stream",
          "text": [
            "Loaded 19,475 rows for 3,000 users.\n"
          ]
        },
        {
          "name": "stderr",
          "output_type": "stream",
          "text": [
            "\n"
          ]
        }
      ],
      "source": [
        "user_ids = set()\n",
        "\n",
        "try:\n",
        "    streaming_data = load_dataset(\n",
        "        'recmeapp/mobilerec',\n",
        "        data_files='interactions/mobilerec_final.csv',\n",
        "        split='train',\n",
        "        streaming=True\n",
        "    )\n",
        "    print(\"✓ Dataset loaded successfully!\")\n",
        "except Exception as e:\n",
        "    print(f\"✗ Error loading dataset: {e}\")\n",
        "    print(\"\\nTo fix this:\")\n",
        "    print(\"1. Go back to the authentication cell above\")\n",
        "    print(\"2. Uncomment the login() line\")\n",
        "    print(\"3. Run that cell and enter your Hugging Face token\")\n",
        "    print(\"4. Then re-run this cell\")\n",
        "    print(\"5. Get your token from: https://huggingface.co/settings/tokens\")\n",
        "    raise\n",
        "\n",
        "for row in tqdm(streaming_data, total=19_300_000):\n",
        "    uid = row.get('uid')\n",
        "    if uid:\n",
        "        user_ids.add(uid)\n",
        "    if len(user_ids) >= 30_000:\n",
        "        break\n",
        "\n",
        "sampled_users = set(random.sample(sorted(user_ids), 3000))\n",
        "\n",
        "rows = []\n",
        "try:\n",
        "    streaming_data = load_dataset(\n",
        "        'recmeapp/mobilerec',\n",
        "        data_files='interactions/mobilerec_final.csv',\n",
        "        split='train',\n",
        "        streaming=True\n",
        "    )\n",
        "except Exception as e:\n",
        "    print(f\"✗ Error loading dataset for interactions: {e}\")\n",
        "    print(\"Make sure you've authenticated with Hugging Face (see instructions above)\")\n",
        "    raise\n",
        "\n",
        "for row in tqdm(streaming_data, total=19_300_000):\n",
        "    if row.get('uid') in sampled_users:\n",
        "        rows.append({\n",
        "            'uid': row.get('uid'),\n",
        "            'app_package': row.get('app_package'),\n",
        "            'rating': row.get('rating', 1),\n",
        "            'date': row.get('date'),\n",
        "            'app_category': row.get('app_category', 'Unknown')\n",
        "        })\n",
        "\n",
        "if rows:\n",
        "    df = pd.DataFrame(rows)\n",
        "    df['date'] = pd.to_datetime(df['date'], errors='coerce')\n",
        "    df = df.dropna(subset=['date'])\n",
        "    df = df.sort_values(by=[\"uid\", \"date\"])\n",
        "    print(f\"Loaded {len(df):,} rows for 3,000 users.\")\n",
        "else:\n",
        "    print(\"No rows were matched. Check if sampled_users is empty or mismatched.\")\n"
      ]
    },
    {
      "cell_type": "code",
      "execution_count": 27,
      "metadata": {
        "colab": {
          "base_uri": "https://localhost:8080/",
          "height": 490
        },
        "id": "d28309Kr_Yga",
        "outputId": "d5e9e9c1-ef17-4b06-e7a5-f5d0f588b687"
      },
      "outputs": [
        {
          "data": {
            "text/plain": [
              "uid\n",
              "NqhTSgQq5RyzlrFA    25\n",
              "OtyCrcFKUhiRCRdw    23\n",
              "mElk8Wh1bcWXwlWo    19\n",
              "GEiCLNtznzoMosD9    18\n",
              "3Mdnpdne4njknJ62    18\n",
              "                    ..\n",
              "89AQTtUGQjS1cVFy     5\n",
              "2kuBGrfE5dH6OUMK     5\n",
              "2mnqtSovTqHzN9Jh     5\n",
              "rpDHAUOhU0EEKpnP     5\n",
              "zyFBTxTPCSbXv7UV     5\n",
              "Name: count, Length: 3000, dtype: int64"
            ]
          },
          "execution_count": 27,
          "metadata": {},
          "output_type": "execute_result"
        }
      ],
      "source": [
        "# Loaded dataset contains at least 5 interactions per user\n",
        "df.uid.value_counts().sort_values(ascending=False)"
      ]
    },
    {
      "cell_type": "code",
      "execution_count": 28,
      "metadata": {
        "colab": {
          "base_uri": "https://localhost:8080/"
        },
        "id": "7JAo6nYX_6Lt",
        "outputId": "94533919-48b6-4372-8f5c-fd88103d596d"
      },
      "outputs": [
        {
          "data": {
            "text/plain": [
              "5165"
            ]
          },
          "execution_count": 28,
          "metadata": {},
          "output_type": "execute_result"
        }
      ],
      "source": [
        "# Count the number of unique applications in the dataset\n",
        "df.app_package.nunique()"
      ]
    },
    {
      "cell_type": "code",
      "execution_count": 29,
      "metadata": {
        "colab": {
          "base_uri": "https://localhost:8080/",
          "height": 241
        },
        "id": "_QN1fboCAC39",
        "outputId": "07f1a7ae-1b49-4cbc-a456-73a076cf0adc"
      },
      "outputs": [
        {
          "data": {
            "text/plain": [
              "uid             0\n",
              "app_package     0\n",
              "rating          0\n",
              "date            0\n",
              "app_category    0\n",
              "dtype: int64"
            ]
          },
          "execution_count": 29,
          "metadata": {},
          "output_type": "execute_result"
        }
      ],
      "source": [
        "df.isnull().sum()"
      ]
    },
    {
      "cell_type": "code",
      "execution_count": 30,
      "metadata": {
        "colab": {
          "base_uri": "https://localhost:8080/",
          "height": 689,
          "referenced_widgets": [
            "8c8987c85f0043c29564fb686a54d691",
            "4270bb9ece304a7eb378510da543854c",
            "e4b682b323654215b87200c2c9a7e2ee",
            "11a825510a714d258738c61dfb118e10",
            "f89b90ad3d60413e96f0adb0e47d2833",
            "e59291cdec7a4b679694aac0391c8f79",
            "1d50a36938e84a4395827927b9d4eb4b",
            "1747d027deae48d89b4f62f3690d2f88",
            "a9bf716200c54200bfbde2c4837d93d4",
            "3cb614949367459a942e6931daa9d1a9",
            "8da7437c9db046c397895f499f5bd5e8",
            "269891610b3e4f7593259dbd8fcbe4aa",
            "72c2c8b77b69406383b8302cd62be228",
            "999a7d9bcba24d46a25d02057687f39a",
            "4824c39e997d498989eaa74288328eb2",
            "60713fc413f149a492a0931c7d82944d",
            "b88263a1aec4475b85cef90a8dc0d5aa",
            "e3a60bc94caa498fb64a7bafdbfdc2ff",
            "153d637fe14b4a37ab2cfd4b6e080027",
            "5a8ebd92280647bfa9e0ecfdc684867d",
            "2878c8883ee844eba0f4b8b536ff9fbd",
            "ce9fa2a359134cc0a76ce38b5031eec3"
          ]
        },
        "id": "ux-cEZEKAivE",
        "outputId": "6dacd453-6c51-49f7-c274-7616da534c26"
      },
      "outputs": [
        {
          "name": "stdout",
          "output_type": "stream",
          "text": [
            "Loading app metadata...\n",
            "✓ App metadata loaded successfully!\n",
            "                    app_package  \\\n",
            "0            com.natewren.lines   \n",
            "1  com.capitalone.credittracker   \n",
            "2        com.purascents.android   \n",
            "3        com.wallethub.mywallet   \n",
            "4        air.com.samuramu.gg.se   \n",
            "\n",
            "                                            app_name  \\\n",
            "0                              Lines Pro - Icon Pack   \n",
            "1                        CreditWise from Capital One   \n",
            "2                   Pura - Smart Fragrance Dispenser   \n",
            "3  WalletHub - Free Credit Score, Report & Monito...   \n",
            "4            #SelfLove (GG Confidence & Self esteem)   \n",
            "\n",
            "              developer_name     app_category  \\\n",
            "0           Nate Wren Design  Personalization   \n",
            "1  Capital One Services, LLC          Finance   \n",
            "2                       Pura     House & Home   \n",
            "3                  WalletHub          Finance   \n",
            "4                 Ggtude Ltd          Medical   \n",
            "\n",
            "                                         description content_rating  \\\n",
            "0  Lines icons (pro version) are outlined shapes ...       Everyone   \n",
            "1  Know your credit score and much more\\n\\nCapita...       Everyone   \n",
            "2  Pura is a smart home fragrance device that you...       Everyone   \n",
            "3  WalletHub is the first app to offer 100% free ...       Everyone   \n",
            "4  Wish to build confidence and have higher self ...       Everyone   \n",
            "\n",
            "  num_reviews      price  avg_rating  \n",
            "0       2,997  $1.99 Buy         4.7  \n",
            "1      94,914    Install         4.7  \n",
            "2         778    Install         4.4  \n",
            "3       7,025    Install         4.7  \n",
            "4         625    Install         4.1  \n"
          ]
        }
      ],
      "source": [
        "print(\"Loading app metadata...\")\n",
        "try:\n",
        "    meta_data = load_dataset(\n",
        "        'recmeapp/mobilerec',\n",
        "        data_files='app_meta/app_meta.csv',\n",
        "        split='train'\n",
        "    )\n",
        "    app_meta_df = pd.DataFrame(meta_data)\n",
        "    print(\"✓ App metadata loaded successfully!\")\n",
        "    print(app_meta_df.head())\n",
        "except Exception as e:\n",
        "    print(f\"✗ Error loading app metadata: {e}\")\n",
        "    print(\"Make sure you've authenticated with Hugging Face (see authentication cell above)\")\n",
        "    raise\n"
      ]
    },
    {
      "cell_type": "code",
      "execution_count": 31,
      "metadata": {
        "colab": {
          "base_uri": "https://localhost:8080/",
          "height": 206
        },
        "id": "eFTC67AUBQID",
        "outputId": "ec39ce4b-1f3a-4292-a50f-3d57d379e74c"
      },
      "outputs": [
        {
          "data": {
            "text/html": [
              "<div>\n",
              "<style scoped>\n",
              "    .dataframe tbody tr th:only-of-type {\n",
              "        vertical-align: middle;\n",
              "    }\n",
              "\n",
              "    .dataframe tbody tr th {\n",
              "        vertical-align: top;\n",
              "    }\n",
              "\n",
              "    .dataframe thead th {\n",
              "        text-align: right;\n",
              "    }\n",
              "</style>\n",
              "<table border=\"1\" class=\"dataframe\">\n",
              "  <thead>\n",
              "    <tr style=\"text-align: right;\">\n",
              "      <th></th>\n",
              "      <th>app_package</th>\n",
              "      <th>app_name</th>\n",
              "      <th>developer_name</th>\n",
              "      <th>app_category</th>\n",
              "      <th>description</th>\n",
              "      <th>content_rating</th>\n",
              "      <th>num_reviews</th>\n",
              "      <th>price</th>\n",
              "      <th>avg_rating</th>\n",
              "    </tr>\n",
              "  </thead>\n",
              "  <tbody>\n",
              "    <tr>\n",
              "      <th>0</th>\n",
              "      <td>com.natewren.lines</td>\n",
              "      <td>Lines Pro - Icon Pack</td>\n",
              "      <td>Nate Wren Design</td>\n",
              "      <td>Personalization</td>\n",
              "      <td>Lines icons (pro version) are outlined shapes ...</td>\n",
              "      <td>Everyone</td>\n",
              "      <td>2,997</td>\n",
              "      <td>$1.99 Buy</td>\n",
              "      <td>4.7</td>\n",
              "    </tr>\n",
              "    <tr>\n",
              "      <th>1</th>\n",
              "      <td>com.capitalone.credittracker</td>\n",
              "      <td>CreditWise from Capital One</td>\n",
              "      <td>Capital One Services, LLC</td>\n",
              "      <td>Finance</td>\n",
              "      <td>Know your credit score and much more\\n\\nCapita...</td>\n",
              "      <td>Everyone</td>\n",
              "      <td>94,914</td>\n",
              "      <td>Install</td>\n",
              "      <td>4.7</td>\n",
              "    </tr>\n",
              "    <tr>\n",
              "      <th>2</th>\n",
              "      <td>com.purascents.android</td>\n",
              "      <td>Pura - Smart Fragrance Dispenser</td>\n",
              "      <td>Pura</td>\n",
              "      <td>House &amp; Home</td>\n",
              "      <td>Pura is a smart home fragrance device that you...</td>\n",
              "      <td>Everyone</td>\n",
              "      <td>778</td>\n",
              "      <td>Install</td>\n",
              "      <td>4.4</td>\n",
              "    </tr>\n",
              "    <tr>\n",
              "      <th>3</th>\n",
              "      <td>com.wallethub.mywallet</td>\n",
              "      <td>WalletHub - Free Credit Score, Report &amp; Monito...</td>\n",
              "      <td>WalletHub</td>\n",
              "      <td>Finance</td>\n",
              "      <td>WalletHub is the first app to offer 100% free ...</td>\n",
              "      <td>Everyone</td>\n",
              "      <td>7,025</td>\n",
              "      <td>Install</td>\n",
              "      <td>4.7</td>\n",
              "    </tr>\n",
              "    <tr>\n",
              "      <th>4</th>\n",
              "      <td>air.com.samuramu.gg.se</td>\n",
              "      <td>#SelfLove (GG Confidence &amp; Self esteem)</td>\n",
              "      <td>Ggtude Ltd</td>\n",
              "      <td>Medical</td>\n",
              "      <td>Wish to build confidence and have higher self ...</td>\n",
              "      <td>Everyone</td>\n",
              "      <td>625</td>\n",
              "      <td>Install</td>\n",
              "      <td>4.1</td>\n",
              "    </tr>\n",
              "  </tbody>\n",
              "</table>\n",
              "</div>"
            ],
            "text/plain": [
              "                    app_package  \\\n",
              "0            com.natewren.lines   \n",
              "1  com.capitalone.credittracker   \n",
              "2        com.purascents.android   \n",
              "3        com.wallethub.mywallet   \n",
              "4        air.com.samuramu.gg.se   \n",
              "\n",
              "                                            app_name  \\\n",
              "0                              Lines Pro - Icon Pack   \n",
              "1                        CreditWise from Capital One   \n",
              "2                   Pura - Smart Fragrance Dispenser   \n",
              "3  WalletHub - Free Credit Score, Report & Monito...   \n",
              "4            #SelfLove (GG Confidence & Self esteem)   \n",
              "\n",
              "              developer_name     app_category  \\\n",
              "0           Nate Wren Design  Personalization   \n",
              "1  Capital One Services, LLC          Finance   \n",
              "2                       Pura     House & Home   \n",
              "3                  WalletHub          Finance   \n",
              "4                 Ggtude Ltd          Medical   \n",
              "\n",
              "                                         description content_rating  \\\n",
              "0  Lines icons (pro version) are outlined shapes ...       Everyone   \n",
              "1  Know your credit score and much more\\n\\nCapita...       Everyone   \n",
              "2  Pura is a smart home fragrance device that you...       Everyone   \n",
              "3  WalletHub is the first app to offer 100% free ...       Everyone   \n",
              "4  Wish to build confidence and have higher self ...       Everyone   \n",
              "\n",
              "  num_reviews      price  avg_rating  \n",
              "0       2,997  $1.99 Buy         4.7  \n",
              "1      94,914    Install         4.7  \n",
              "2         778    Install         4.4  \n",
              "3       7,025    Install         4.7  \n",
              "4         625    Install         4.1  "
            ]
          },
          "execution_count": 31,
          "metadata": {},
          "output_type": "execute_result"
        }
      ],
      "source": [
        "app_meta_df.head()"
      ]
    },
    {
      "cell_type": "code",
      "execution_count": 32,
      "metadata": {
        "colab": {
          "base_uri": "https://localhost:8080/"
        },
        "id": "K6tyxDDFBUFS",
        "outputId": "d3e06ded-915c-42e9-b03e-60caf3021179"
      },
      "outputs": [
        {
          "data": {
            "text/plain": [
              "10173"
            ]
          },
          "execution_count": 32,
          "metadata": {},
          "output_type": "execute_result"
        }
      ],
      "source": [
        "len(app_meta_df)"
      ]
    },
    {
      "cell_type": "code",
      "execution_count": 33,
      "metadata": {
        "colab": {
          "base_uri": "https://localhost:8080/",
          "height": 363
        },
        "id": "v5lG_K6oCGn1",
        "outputId": "a72522d2-8f83-4d7c-ba47-e69e58d08956"
      },
      "outputs": [
        {
          "data": {
            "text/html": [
              "<div>\n",
              "<style scoped>\n",
              "    .dataframe tbody tr th:only-of-type {\n",
              "        vertical-align: middle;\n",
              "    }\n",
              "\n",
              "    .dataframe tbody tr th {\n",
              "        vertical-align: top;\n",
              "    }\n",
              "\n",
              "    .dataframe thead th {\n",
              "        text-align: right;\n",
              "    }\n",
              "</style>\n",
              "<table border=\"1\" class=\"dataframe\">\n",
              "  <thead>\n",
              "    <tr style=\"text-align: right;\">\n",
              "      <th></th>\n",
              "      <th>app_package</th>\n",
              "      <th>app_name</th>\n",
              "      <th>developer_name</th>\n",
              "      <th>app_category</th>\n",
              "      <th>description</th>\n",
              "      <th>content_rating</th>\n",
              "      <th>num_reviews</th>\n",
              "      <th>price</th>\n",
              "      <th>avg_rating</th>\n",
              "    </tr>\n",
              "  </thead>\n",
              "  <tbody>\n",
              "    <tr>\n",
              "      <th>0</th>\n",
              "      <td>com.natewren.lines</td>\n",
              "      <td>Lines Pro - Icon Pack</td>\n",
              "      <td>Nate Wren Design</td>\n",
              "      <td>Personalization</td>\n",
              "      <td>Lines icons (pro version) are outlined shapes ...</td>\n",
              "      <td>Everyone</td>\n",
              "      <td>2,997</td>\n",
              "      <td>$1.99 Buy</td>\n",
              "      <td>4.7</td>\n",
              "    </tr>\n",
              "    <tr>\n",
              "      <th>1</th>\n",
              "      <td>com.capitalone.credittracker</td>\n",
              "      <td>CreditWise from Capital One</td>\n",
              "      <td>Capital One Services, LLC</td>\n",
              "      <td>Finance</td>\n",
              "      <td>Know your credit score and much more\\n\\nCapita...</td>\n",
              "      <td>Everyone</td>\n",
              "      <td>94,914</td>\n",
              "      <td>Install</td>\n",
              "      <td>4.7</td>\n",
              "    </tr>\n",
              "    <tr>\n",
              "      <th>2</th>\n",
              "      <td>com.purascents.android</td>\n",
              "      <td>Pura - Smart Fragrance Dispenser</td>\n",
              "      <td>Pura</td>\n",
              "      <td>House &amp; Home</td>\n",
              "      <td>Pura is a smart home fragrance device that you...</td>\n",
              "      <td>Everyone</td>\n",
              "      <td>778</td>\n",
              "      <td>Install</td>\n",
              "      <td>4.4</td>\n",
              "    </tr>\n",
              "    <tr>\n",
              "      <th>3</th>\n",
              "      <td>com.wallethub.mywallet</td>\n",
              "      <td>WalletHub - Free Credit Score, Report &amp; Monito...</td>\n",
              "      <td>WalletHub</td>\n",
              "      <td>Finance</td>\n",
              "      <td>WalletHub is the first app to offer 100% free ...</td>\n",
              "      <td>Everyone</td>\n",
              "      <td>7,025</td>\n",
              "      <td>Install</td>\n",
              "      <td>4.7</td>\n",
              "    </tr>\n",
              "    <tr>\n",
              "      <th>4</th>\n",
              "      <td>air.com.samuramu.gg.se</td>\n",
              "      <td>#SelfLove (GG Confidence &amp; Self esteem)</td>\n",
              "      <td>Ggtude Ltd</td>\n",
              "      <td>Medical</td>\n",
              "      <td>Wish to build confidence and have higher self ...</td>\n",
              "      <td>Everyone</td>\n",
              "      <td>625</td>\n",
              "      <td>Install</td>\n",
              "      <td>4.1</td>\n",
              "    </tr>\n",
              "    <tr>\n",
              "      <th>5</th>\n",
              "      <td>com.booster.gfx</td>\n",
              "      <td>Game Booster : Launcher - GFX</td>\n",
              "      <td>TOLAN</td>\n",
              "      <td>Libraries &amp; Demo</td>\n",
              "      <td>Game Booster will unlock your device's maximum...</td>\n",
              "      <td>Everyone</td>\n",
              "      <td>16,877</td>\n",
              "      <td>Install</td>\n",
              "      <td>4.5</td>\n",
              "    </tr>\n",
              "    <tr>\n",
              "      <th>6</th>\n",
              "      <td>com.nbcuni.nbc</td>\n",
              "      <td>The NBC App - Stream TV Shows</td>\n",
              "      <td>NBCUniversal Media, LLC</td>\n",
              "      <td>Entertainment</td>\n",
              "      <td>Stream TV and watch episodes of current NBC TV...</td>\n",
              "      <td>Teen</td>\n",
              "      <td>124,483</td>\n",
              "      <td>Install</td>\n",
              "      <td>3.9</td>\n",
              "    </tr>\n",
              "    <tr>\n",
              "      <th>7</th>\n",
              "      <td>com.dreame.writer</td>\n",
              "      <td>Stary Writing-To Be A Stary Exclusive Writer</td>\n",
              "      <td>Dreame Media</td>\n",
              "      <td>Books &amp; Reference</td>\n",
              "      <td>Follow your passion for writing Now! You can b...</td>\n",
              "      <td>Teen</td>\n",
              "      <td>2,360</td>\n",
              "      <td>Install</td>\n",
              "      <td>3.3</td>\n",
              "    </tr>\n",
              "    <tr>\n",
              "      <th>8</th>\n",
              "      <td>com.activision.callofduty.shooter</td>\n",
              "      <td>Call of Duty Mobile Season 2</td>\n",
              "      <td>Activision Publishing, Inc.</td>\n",
              "      <td>Action</td>\n",
              "      <td>\"The CALL OF DUTY® you know and love now on yo...</td>\n",
              "      <td>Mature 17+</td>\n",
              "      <td>14,777,260</td>\n",
              "      <td>Install</td>\n",
              "      <td>4.3</td>\n",
              "    </tr>\n",
              "    <tr>\n",
              "      <th>9</th>\n",
              "      <td>com.criterionchannel</td>\n",
              "      <td>The Criterion Channel</td>\n",
              "      <td>The Criterion Collection</td>\n",
              "      <td>Entertainment</td>\n",
              "      <td>A movie lover’s dream, the Criterion Channel o...</td>\n",
              "      <td>Teen</td>\n",
              "      <td>3,360</td>\n",
              "      <td>Install</td>\n",
              "      <td>4.6</td>\n",
              "    </tr>\n",
              "  </tbody>\n",
              "</table>\n",
              "</div>"
            ],
            "text/plain": [
              "                         app_package  \\\n",
              "0                 com.natewren.lines   \n",
              "1       com.capitalone.credittracker   \n",
              "2             com.purascents.android   \n",
              "3             com.wallethub.mywallet   \n",
              "4             air.com.samuramu.gg.se   \n",
              "5                    com.booster.gfx   \n",
              "6                     com.nbcuni.nbc   \n",
              "7                  com.dreame.writer   \n",
              "8  com.activision.callofduty.shooter   \n",
              "9               com.criterionchannel   \n",
              "\n",
              "                                            app_name  \\\n",
              "0                              Lines Pro - Icon Pack   \n",
              "1                        CreditWise from Capital One   \n",
              "2                   Pura - Smart Fragrance Dispenser   \n",
              "3  WalletHub - Free Credit Score, Report & Monito...   \n",
              "4            #SelfLove (GG Confidence & Self esteem)   \n",
              "5                      Game Booster : Launcher - GFX   \n",
              "6                      The NBC App - Stream TV Shows   \n",
              "7       Stary Writing-To Be A Stary Exclusive Writer   \n",
              "8                       Call of Duty Mobile Season 2   \n",
              "9                              The Criterion Channel   \n",
              "\n",
              "                developer_name       app_category  \\\n",
              "0             Nate Wren Design    Personalization   \n",
              "1    Capital One Services, LLC            Finance   \n",
              "2                         Pura       House & Home   \n",
              "3                    WalletHub            Finance   \n",
              "4                   Ggtude Ltd            Medical   \n",
              "5                        TOLAN   Libraries & Demo   \n",
              "6      NBCUniversal Media, LLC      Entertainment   \n",
              "7                 Dreame Media  Books & Reference   \n",
              "8  Activision Publishing, Inc.             Action   \n",
              "9     The Criterion Collection      Entertainment   \n",
              "\n",
              "                                         description content_rating  \\\n",
              "0  Lines icons (pro version) are outlined shapes ...       Everyone   \n",
              "1  Know your credit score and much more\\n\\nCapita...       Everyone   \n",
              "2  Pura is a smart home fragrance device that you...       Everyone   \n",
              "3  WalletHub is the first app to offer 100% free ...       Everyone   \n",
              "4  Wish to build confidence and have higher self ...       Everyone   \n",
              "5  Game Booster will unlock your device's maximum...       Everyone   \n",
              "6  Stream TV and watch episodes of current NBC TV...           Teen   \n",
              "7  Follow your passion for writing Now! You can b...           Teen   \n",
              "8  \"The CALL OF DUTY® you know and love now on yo...     Mature 17+   \n",
              "9  A movie lover’s dream, the Criterion Channel o...           Teen   \n",
              "\n",
              "  num_reviews      price  avg_rating  \n",
              "0       2,997  $1.99 Buy         4.7  \n",
              "1      94,914    Install         4.7  \n",
              "2         778    Install         4.4  \n",
              "3       7,025    Install         4.7  \n",
              "4         625    Install         4.1  \n",
              "5      16,877    Install         4.5  \n",
              "6     124,483    Install         3.9  \n",
              "7       2,360    Install         3.3  \n",
              "8  14,777,260    Install         4.3  \n",
              "9       3,360    Install         4.6  "
            ]
          },
          "execution_count": 33,
          "metadata": {},
          "output_type": "execute_result"
        }
      ],
      "source": [
        "app_meta_df.head(10)"
      ]
    },
    {
      "cell_type": "code",
      "execution_count": 34,
      "metadata": {
        "id": "oOU-wdAbDGAk"
      },
      "outputs": [],
      "source": [
        "# Define which static columns to keep from app_meta_df: Everything except num_reviews and avg_rating, which are cumulative\n",
        "meta_static_cols = [\n",
        "    \"app_package\", \"app_name\", \"developer_name\", \"app_category\",\n",
        "    \"description\", \"content_rating\", \"price\"\n",
        "]\n",
        "\n",
        "# Merge with df\n",
        "df_merged = df.merge(app_meta_df[meta_static_cols], on=\"app_package\", how=\"left\")"
      ]
    },
    {
      "cell_type": "code",
      "execution_count": 35,
      "metadata": {
        "colab": {
          "base_uri": "https://localhost:8080/"
        },
        "id": "79hTwfK9DvXh",
        "outputId": "0cfd9874-2c06-4ea3-c0de-acd069a34fd7"
      },
      "outputs": [
        {
          "data": {
            "text/plain": [
              "(19475, 11)"
            ]
          },
          "execution_count": 35,
          "metadata": {},
          "output_type": "execute_result"
        }
      ],
      "source": [
        "df_merged.shape"
      ]
    },
    {
      "cell_type": "code",
      "execution_count": 36,
      "metadata": {
        "colab": {
          "base_uri": "https://localhost:8080/",
          "height": 293
        },
        "id": "F5dgCEjIEWJ6",
        "outputId": "6ebfaa55-59b0-4153-80fb-cd07a751ce4d"
      },
      "outputs": [
        {
          "data": {
            "text/html": [
              "<div>\n",
              "<style scoped>\n",
              "    .dataframe tbody tr th:only-of-type {\n",
              "        vertical-align: middle;\n",
              "    }\n",
              "\n",
              "    .dataframe tbody tr th {\n",
              "        vertical-align: top;\n",
              "    }\n",
              "\n",
              "    .dataframe thead th {\n",
              "        text-align: right;\n",
              "    }\n",
              "</style>\n",
              "<table border=\"1\" class=\"dataframe\">\n",
              "  <thead>\n",
              "    <tr style=\"text-align: right;\">\n",
              "      <th></th>\n",
              "      <th>uid</th>\n",
              "      <th>app_package</th>\n",
              "      <th>rating</th>\n",
              "      <th>date</th>\n",
              "      <th>app_category_x</th>\n",
              "      <th>app_name</th>\n",
              "      <th>developer_name</th>\n",
              "      <th>app_category_y</th>\n",
              "      <th>description</th>\n",
              "      <th>content_rating</th>\n",
              "      <th>price</th>\n",
              "    </tr>\n",
              "  </thead>\n",
              "  <tbody>\n",
              "    <tr>\n",
              "      <th>0</th>\n",
              "      <td>00KTAxXg0Ok6u2pH</td>\n",
              "      <td>com.kamagames.roulettist</td>\n",
              "      <td>4</td>\n",
              "      <td>2014-01-23</td>\n",
              "      <td>Casino</td>\n",
              "      <td>Casino Roulette: Roulettist</td>\n",
              "      <td>KamaGames</td>\n",
              "      <td>Casino</td>\n",
              "      <td>Play the best free roulette game with millions...</td>\n",
              "      <td>Teen</td>\n",
              "      <td>Install</td>\n",
              "    </tr>\n",
              "    <tr>\n",
              "      <th>1</th>\n",
              "      <td>00KTAxXg0Ok6u2pH</td>\n",
              "      <td>com.amadeus.cmt.client.android</td>\n",
              "      <td>4</td>\n",
              "      <td>2017-01-08</td>\n",
              "      <td>Travel &amp; Local</td>\n",
              "      <td>CheckMyTrip</td>\n",
              "      <td>Amadeus IT Group SA</td>\n",
              "      <td>Travel &amp; Local</td>\n",
              "      <td>CheckMyTrip is your complete travel itinerary ...</td>\n",
              "      <td>Everyone</td>\n",
              "      <td>Install</td>\n",
              "    </tr>\n",
              "    <tr>\n",
              "      <th>2</th>\n",
              "      <td>00KTAxXg0Ok6u2pH</td>\n",
              "      <td>com.diggitaldogg.rapempire</td>\n",
              "      <td>5</td>\n",
              "      <td>2021-02-25</td>\n",
              "      <td>Simulation</td>\n",
              "      <td>Snoop Dogg's Rap Empire</td>\n",
              "      <td>diGGital doGG</td>\n",
              "      <td>Simulation</td>\n",
              "      <td>Are you ready to become a rap legend? Start yo...</td>\n",
              "      <td>Everyone</td>\n",
              "      <td>Install</td>\n",
              "    </tr>\n",
              "    <tr>\n",
              "      <th>3</th>\n",
              "      <td>00KTAxXg0Ok6u2pH</td>\n",
              "      <td>com.citybay.farming.citybuilding</td>\n",
              "      <td>2</td>\n",
              "      <td>2021-03-22</td>\n",
              "      <td>Casual</td>\n",
              "      <td>Farm City: Farming &amp; City Building</td>\n",
              "      <td>Zego Studio</td>\n",
              "      <td>Casual</td>\n",
              "      <td>Farm City: City building &amp; Farming is one of t...</td>\n",
              "      <td>Everyone</td>\n",
              "      <td>Install</td>\n",
              "    </tr>\n",
              "    <tr>\n",
              "      <th>4</th>\n",
              "      <td>00KTAxXg0Ok6u2pH</td>\n",
              "      <td>com.disney.datg.videoplatforms.android.abcf</td>\n",
              "      <td>5</td>\n",
              "      <td>2021-04-14</td>\n",
              "      <td>Entertainment</td>\n",
              "      <td>Freeform - Movies &amp; TV Shows</td>\n",
              "      <td>Disney</td>\n",
              "      <td>Entertainment</td>\n",
              "      <td>Watch full episodes of Freeform shows like Cru...</td>\n",
              "      <td>Everyone</td>\n",
              "      <td>Install</td>\n",
              "    </tr>\n",
              "  </tbody>\n",
              "</table>\n",
              "</div>"
            ],
            "text/plain": [
              "                uid                                  app_package  rating  \\\n",
              "0  00KTAxXg0Ok6u2pH                     com.kamagames.roulettist       4   \n",
              "1  00KTAxXg0Ok6u2pH               com.amadeus.cmt.client.android       4   \n",
              "2  00KTAxXg0Ok6u2pH                   com.diggitaldogg.rapempire       5   \n",
              "3  00KTAxXg0Ok6u2pH             com.citybay.farming.citybuilding       2   \n",
              "4  00KTAxXg0Ok6u2pH  com.disney.datg.videoplatforms.android.abcf       5   \n",
              "\n",
              "        date  app_category_x                            app_name  \\\n",
              "0 2014-01-23          Casino         Casino Roulette: Roulettist   \n",
              "1 2017-01-08  Travel & Local                         CheckMyTrip   \n",
              "2 2021-02-25      Simulation             Snoop Dogg's Rap Empire   \n",
              "3 2021-03-22          Casual  Farm City: Farming & City Building   \n",
              "4 2021-04-14   Entertainment        Freeform - Movies & TV Shows   \n",
              "\n",
              "        developer_name  app_category_y  \\\n",
              "0            KamaGames          Casino   \n",
              "1  Amadeus IT Group SA  Travel & Local   \n",
              "2        diGGital doGG      Simulation   \n",
              "3          Zego Studio          Casual   \n",
              "4               Disney   Entertainment   \n",
              "\n",
              "                                         description content_rating    price  \n",
              "0  Play the best free roulette game with millions...           Teen  Install  \n",
              "1  CheckMyTrip is your complete travel itinerary ...       Everyone  Install  \n",
              "2  Are you ready to become a rap legend? Start yo...       Everyone  Install  \n",
              "3  Farm City: City building & Farming is one of t...       Everyone  Install  \n",
              "4  Watch full episodes of Freeform shows like Cru...       Everyone  Install  "
            ]
          },
          "execution_count": 36,
          "metadata": {},
          "output_type": "execute_result"
        }
      ],
      "source": [
        "df_merged.head()"
      ]
    },
    {
      "cell_type": "code",
      "execution_count": 37,
      "metadata": {
        "colab": {
          "base_uri": "https://localhost:8080/"
        },
        "id": "SuGFLhNvEf2I",
        "outputId": "9ec313d4-8d3c-4e72-92dc-eb365130a782"
      },
      "outputs": [
        {
          "name": "stdout",
          "output_type": "stream",
          "text": [
            "Number of mismatches between app_category_x and app_category_y: 0\n"
          ]
        }
      ],
      "source": [
        "mismatch_count = (df_merged[\"app_category_x\"] != df_merged[\"app_category_y\"]).sum()\n",
        "print(f\"Number of mismatches between app_category_x and app_category_y: {mismatch_count}\")"
      ]
    },
    {
      "cell_type": "code",
      "execution_count": 38,
      "metadata": {
        "id": "IzpBlNYqFHAw"
      },
      "outputs": [],
      "source": [
        "df_merged.drop(columns=[\"app_category_y\"], inplace=True)\n",
        "df_merged.rename(columns={\"app_category_x\": \"app_category\"}, inplace=True)"
      ]
    },
    {
      "cell_type": "code",
      "execution_count": 39,
      "metadata": {
        "colab": {
          "base_uri": "https://localhost:8080/",
          "height": 424
        },
        "id": "hiVFsSdtFP0s",
        "outputId": "f94af45a-9612-48aa-f8fd-8fed15c2703b"
      },
      "outputs": [
        {
          "data": {
            "text/html": [
              "<div>\n",
              "<style scoped>\n",
              "    .dataframe tbody tr th:only-of-type {\n",
              "        vertical-align: middle;\n",
              "    }\n",
              "\n",
              "    .dataframe tbody tr th {\n",
              "        vertical-align: top;\n",
              "    }\n",
              "\n",
              "    .dataframe thead th {\n",
              "        text-align: right;\n",
              "    }\n",
              "</style>\n",
              "<table border=\"1\" class=\"dataframe\">\n",
              "  <thead>\n",
              "    <tr style=\"text-align: right;\">\n",
              "      <th></th>\n",
              "      <th>uid</th>\n",
              "      <th>app_package</th>\n",
              "      <th>rating</th>\n",
              "      <th>date</th>\n",
              "      <th>app_category</th>\n",
              "      <th>app_name</th>\n",
              "      <th>developer_name</th>\n",
              "      <th>description</th>\n",
              "      <th>content_rating</th>\n",
              "      <th>price</th>\n",
              "    </tr>\n",
              "  </thead>\n",
              "  <tbody>\n",
              "    <tr>\n",
              "      <th>0</th>\n",
              "      <td>00KTAxXg0Ok6u2pH</td>\n",
              "      <td>com.kamagames.roulettist</td>\n",
              "      <td>4</td>\n",
              "      <td>2014-01-23</td>\n",
              "      <td>Casino</td>\n",
              "      <td>Casino Roulette: Roulettist</td>\n",
              "      <td>KamaGames</td>\n",
              "      <td>Play the best free roulette game with millions...</td>\n",
              "      <td>Teen</td>\n",
              "      <td>Install</td>\n",
              "    </tr>\n",
              "    <tr>\n",
              "      <th>1</th>\n",
              "      <td>00KTAxXg0Ok6u2pH</td>\n",
              "      <td>com.amadeus.cmt.client.android</td>\n",
              "      <td>4</td>\n",
              "      <td>2017-01-08</td>\n",
              "      <td>Travel &amp; Local</td>\n",
              "      <td>CheckMyTrip</td>\n",
              "      <td>Amadeus IT Group SA</td>\n",
              "      <td>CheckMyTrip is your complete travel itinerary ...</td>\n",
              "      <td>Everyone</td>\n",
              "      <td>Install</td>\n",
              "    </tr>\n",
              "    <tr>\n",
              "      <th>2</th>\n",
              "      <td>00KTAxXg0Ok6u2pH</td>\n",
              "      <td>com.diggitaldogg.rapempire</td>\n",
              "      <td>5</td>\n",
              "      <td>2021-02-25</td>\n",
              "      <td>Simulation</td>\n",
              "      <td>Snoop Dogg's Rap Empire</td>\n",
              "      <td>diGGital doGG</td>\n",
              "      <td>Are you ready to become a rap legend? Start yo...</td>\n",
              "      <td>Everyone</td>\n",
              "      <td>Install</td>\n",
              "    </tr>\n",
              "    <tr>\n",
              "      <th>3</th>\n",
              "      <td>00KTAxXg0Ok6u2pH</td>\n",
              "      <td>com.citybay.farming.citybuilding</td>\n",
              "      <td>2</td>\n",
              "      <td>2021-03-22</td>\n",
              "      <td>Casual</td>\n",
              "      <td>Farm City: Farming &amp; City Building</td>\n",
              "      <td>Zego Studio</td>\n",
              "      <td>Farm City: City building &amp; Farming is one of t...</td>\n",
              "      <td>Everyone</td>\n",
              "      <td>Install</td>\n",
              "    </tr>\n",
              "    <tr>\n",
              "      <th>4</th>\n",
              "      <td>00KTAxXg0Ok6u2pH</td>\n",
              "      <td>com.disney.datg.videoplatforms.android.abcf</td>\n",
              "      <td>5</td>\n",
              "      <td>2021-04-14</td>\n",
              "      <td>Entertainment</td>\n",
              "      <td>Freeform - Movies &amp; TV Shows</td>\n",
              "      <td>Disney</td>\n",
              "      <td>Watch full episodes of Freeform shows like Cru...</td>\n",
              "      <td>Everyone</td>\n",
              "      <td>Install</td>\n",
              "    </tr>\n",
              "    <tr>\n",
              "      <th>...</th>\n",
              "      <td>...</td>\n",
              "      <td>...</td>\n",
              "      <td>...</td>\n",
              "      <td>...</td>\n",
              "      <td>...</td>\n",
              "      <td>...</td>\n",
              "      <td>...</td>\n",
              "      <td>...</td>\n",
              "      <td>...</td>\n",
              "      <td>...</td>\n",
              "    </tr>\n",
              "    <tr>\n",
              "      <th>19470</th>\n",
              "      <td>zyFBTxTPCSbXv7UV</td>\n",
              "      <td>com.betterment</td>\n",
              "      <td>2</td>\n",
              "      <td>2017-07-07</td>\n",
              "      <td>Finance</td>\n",
              "      <td>Betterment: Investing &amp; Saving</td>\n",
              "      <td>Betterment</td>\n",
              "      <td>Invest better with Betterment. Investing apps ...</td>\n",
              "      <td>Everyone</td>\n",
              "      <td>Install</td>\n",
              "    </tr>\n",
              "    <tr>\n",
              "      <th>19471</th>\n",
              "      <td>zyFBTxTPCSbXv7UV</td>\n",
              "      <td>com.etermax.trivia.preguntados2</td>\n",
              "      <td>4</td>\n",
              "      <td>2020-01-02</td>\n",
              "      <td>Trivia</td>\n",
              "      <td>Trivia Crack 2</td>\n",
              "      <td>etermax</td>\n",
              "      <td>🧠 Sharpen your mind with Trivia Crack 2, the b...</td>\n",
              "      <td>Everyone</td>\n",
              "      <td>Install</td>\n",
              "    </tr>\n",
              "    <tr>\n",
              "      <th>19472</th>\n",
              "      <td>zyFBTxTPCSbXv7UV</td>\n",
              "      <td>ly.omegle.android</td>\n",
              "      <td>3</td>\n",
              "      <td>2021-07-15</td>\n",
              "      <td>Social</td>\n",
              "      <td>Omega - Live Random Video Chat</td>\n",
              "      <td>Omega Tech.</td>\n",
              "      <td>Omega, a free random video chat and live talk ...</td>\n",
              "      <td>Mature 17+</td>\n",
              "      <td>Install</td>\n",
              "    </tr>\n",
              "    <tr>\n",
              "      <th>19473</th>\n",
              "      <td>zyFBTxTPCSbXv7UV</td>\n",
              "      <td>com.raongames.growcastle</td>\n",
              "      <td>5</td>\n",
              "      <td>2022-03-22</td>\n",
              "      <td>Arcade</td>\n",
              "      <td>Grow Castle - Tower Defense</td>\n",
              "      <td>RAON GAMES</td>\n",
              "      <td>It is a defense game to protect the castle fro...</td>\n",
              "      <td>Teen</td>\n",
              "      <td>Install</td>\n",
              "    </tr>\n",
              "    <tr>\n",
              "      <th>19474</th>\n",
              "      <td>zyFBTxTPCSbXv7UV</td>\n",
              "      <td>ai.replika.app</td>\n",
              "      <td>3</td>\n",
              "      <td>2022-04-04</td>\n",
              "      <td>Health &amp; Fitness</td>\n",
              "      <td>Replika: My AI Friend</td>\n",
              "      <td>Luka, Inc</td>\n",
              "      <td>Replika is a #1 chatbot companion powered by a...</td>\n",
              "      <td>Mature 17+</td>\n",
              "      <td>Install</td>\n",
              "    </tr>\n",
              "  </tbody>\n",
              "</table>\n",
              "<p>19475 rows × 10 columns</p>\n",
              "</div>"
            ],
            "text/plain": [
              "                    uid                                  app_package  rating  \\\n",
              "0      00KTAxXg0Ok6u2pH                     com.kamagames.roulettist       4   \n",
              "1      00KTAxXg0Ok6u2pH               com.amadeus.cmt.client.android       4   \n",
              "2      00KTAxXg0Ok6u2pH                   com.diggitaldogg.rapempire       5   \n",
              "3      00KTAxXg0Ok6u2pH             com.citybay.farming.citybuilding       2   \n",
              "4      00KTAxXg0Ok6u2pH  com.disney.datg.videoplatforms.android.abcf       5   \n",
              "...                 ...                                          ...     ...   \n",
              "19470  zyFBTxTPCSbXv7UV                               com.betterment       2   \n",
              "19471  zyFBTxTPCSbXv7UV              com.etermax.trivia.preguntados2       4   \n",
              "19472  zyFBTxTPCSbXv7UV                            ly.omegle.android       3   \n",
              "19473  zyFBTxTPCSbXv7UV                     com.raongames.growcastle       5   \n",
              "19474  zyFBTxTPCSbXv7UV                               ai.replika.app       3   \n",
              "\n",
              "            date      app_category                            app_name  \\\n",
              "0     2014-01-23            Casino         Casino Roulette: Roulettist   \n",
              "1     2017-01-08    Travel & Local                         CheckMyTrip   \n",
              "2     2021-02-25        Simulation             Snoop Dogg's Rap Empire   \n",
              "3     2021-03-22            Casual  Farm City: Farming & City Building   \n",
              "4     2021-04-14     Entertainment        Freeform - Movies & TV Shows   \n",
              "...          ...               ...                                 ...   \n",
              "19470 2017-07-07           Finance      Betterment: Investing & Saving   \n",
              "19471 2020-01-02            Trivia                      Trivia Crack 2   \n",
              "19472 2021-07-15            Social      Omega - Live Random Video Chat   \n",
              "19473 2022-03-22            Arcade         Grow Castle - Tower Defense   \n",
              "19474 2022-04-04  Health & Fitness               Replika: My AI Friend   \n",
              "\n",
              "            developer_name                                        description  \\\n",
              "0                KamaGames  Play the best free roulette game with millions...   \n",
              "1      Amadeus IT Group SA  CheckMyTrip is your complete travel itinerary ...   \n",
              "2            diGGital doGG  Are you ready to become a rap legend? Start yo...   \n",
              "3              Zego Studio  Farm City: City building & Farming is one of t...   \n",
              "4                   Disney  Watch full episodes of Freeform shows like Cru...   \n",
              "...                    ...                                                ...   \n",
              "19470           Betterment  Invest better with Betterment. Investing apps ...   \n",
              "19471              etermax  🧠 Sharpen your mind with Trivia Crack 2, the b...   \n",
              "19472          Omega Tech.  Omega, a free random video chat and live talk ...   \n",
              "19473           RAON GAMES  It is a defense game to protect the castle fro...   \n",
              "19474            Luka, Inc  Replika is a #1 chatbot companion powered by a...   \n",
              "\n",
              "      content_rating    price  \n",
              "0               Teen  Install  \n",
              "1           Everyone  Install  \n",
              "2           Everyone  Install  \n",
              "3           Everyone  Install  \n",
              "4           Everyone  Install  \n",
              "...              ...      ...  \n",
              "19470       Everyone  Install  \n",
              "19471       Everyone  Install  \n",
              "19472     Mature 17+  Install  \n",
              "19473           Teen  Install  \n",
              "19474     Mature 17+  Install  \n",
              "\n",
              "[19475 rows x 10 columns]"
            ]
          },
          "execution_count": 39,
          "metadata": {},
          "output_type": "execute_result"
        }
      ],
      "source": [
        "# df_merged is the final dataset containing all interactions before the train/val/test split\n",
        "df_merged"
      ]
    },
    {
      "cell_type": "markdown",
      "metadata": {
        "id": "tGjSCTCFPJ3y"
      },
      "source": [
        "Sparsity refers to how many entries are missing in the user–item interaction matrix. In this case, a high sparsity value reflects a real-world scenario, where it's common to have limited observed interactions. This highlights one of the key challenges in building a recommender system: learning meaningful patterns from limited user history.\n"
      ]
    },
    {
      "cell_type": "code",
      "execution_count": 57,
      "metadata": {
        "colab": {
          "base_uri": "https://localhost:8080/"
        },
        "id": "8dkVJPlbLAK1",
        "outputId": "c2be2c5b-51b8-4fef-e22e-fc076f22c12a"
      },
      "outputs": [
        {
          "name": "stdout",
          "output_type": "stream",
          "text": [
            "Sparsity: 99.87%\n"
          ]
        }
      ],
      "source": [
        "num_users = df_merged['uid'].nunique()\n",
        "num_items = df_merged['app_package'].nunique()\n",
        "observed = len(df_merged)\n",
        "sparsity = 1 - (observed / (num_users * num_items))\n",
        "print(f\"Sparsity: {sparsity:.2%}\")\n"
      ]
    },
    {
      "cell_type": "markdown",
      "metadata": {
        "id": "AXgIeynIQG1j"
      },
      "source": [
        "To simulate a realistic recommendation scenario, I split each user's interaction history chronologically.\n",
        "The most recent interaction is held out for testing, and the second most recent for validation — the rest is used for training.\n",
        "\n",
        "This setup reflects how recommender systems operate in practice: models are trained on a user’s past behavior and evaluated on their ability to predict future interactions.\n",
        "By using just one validation and one test point per user, I ensure the evaluation remains fair and consistent, even for users with limited history.\n"
      ]
    },
    {
      "cell_type": "code",
      "execution_count": 58,
      "metadata": {
        "colab": {
          "base_uri": "https://localhost:8080/"
        },
        "id": "np1-f-JygJx1",
        "outputId": "717531d7-da14-49c0-fb86-f8bd0586a38c"
      },
      "outputs": [
        {
          "name": "stdout",
          "output_type": "stream",
          "text": [
            "✅ Train: 13,475 rows\n",
            "✅ Val:   3,000 rows\n",
            "✅ Test:  3,000 rows\n"
          ]
        }
      ],
      "source": [
        "def split_user_interactions(user_df, n_val=1, n_test=1):\n",
        "    user_df = user_df.sort_values(\"date\")\n",
        "    train = user_df.iloc[:-n_val-n_test]\n",
        "    val   = user_df.iloc[-n_val-n_test:-n_test]\n",
        "    test  = user_df.iloc[-n_test:]\n",
        "    return train, val, test\n",
        "\n",
        "n_val, n_test = 1, 1\n",
        "train_parts, val_parts, test_parts = [], [], []\n",
        "\n",
        "for uid, user_df in df_merged.groupby(\"uid\"):\n",
        "    if len(user_df) < n_val + n_test + 1:\n",
        "        continue\n",
        "    t, v, te = split_user_interactions(user_df, n_val=n_val, n_test=n_test)\n",
        "    train_parts.append(t)\n",
        "    val_parts.append(v)\n",
        "    test_parts.append(te)\n",
        "\n",
        "train_df = pd.concat(train_parts).reset_index(drop=True)\n",
        "val_df   = pd.concat(val_parts).reset_index(drop=True)\n",
        "test_df  = pd.concat(test_parts).reset_index(drop=True)\n",
        "\n",
        "\n",
        "\n",
        "# 6. Optional: print summary\n",
        "print(f\"✅ Train: {len(train_df):,} rows\")\n",
        "print(f\"✅ Val:   {len(val_df):,} rows\")\n",
        "print(f\"✅ Test:  {len(test_df):,} rows\")"
      ]
    },
    {
      "cell_type": "markdown",
      "metadata": {
        "id": "zZ8gvNNL3rpG"
      },
      "source": [
        "## Assumptions\n",
        "\n",
        "- Users’ past interactions are predictive of their future preferences.\n",
        "- The sampled subset of users (3,000) is sufficiently representative to prototype and evaluate recommendation strategies, even though the full dataset is much larger.\n",
        "- App metadata (title, description, category) provides enough meaningful information for effective content-based recommendations.\n",
        "- The hybrid approach helps mitigate sparsity and cold-start effects for users with limited interaction histories and for new or infrequently rated apps.\n",
        "- This system does not address extreme cold-start cases where users have zero historical interactions, which would require additional user-side features beyond ratings.\n"
      ]
    },
    {
      "cell_type": "markdown",
      "metadata": {
        "id": "NuDiH6osQfMY"
      },
      "source": [
        "## EDA"
      ]
    },
    {
      "cell_type": "code",
      "execution_count": 59,
      "metadata": {
        "colab": {
          "base_uri": "https://localhost:8080/",
          "height": 424
        },
        "id": "SEzIhngDpTXn",
        "outputId": "5aed85dc-99cb-44b5-ecf8-84745ae0bf00"
      },
      "outputs": [
        {
          "data": {
            "text/html": [
              "<div>\n",
              "<style scoped>\n",
              "    .dataframe tbody tr th:only-of-type {\n",
              "        vertical-align: middle;\n",
              "    }\n",
              "\n",
              "    .dataframe tbody tr th {\n",
              "        vertical-align: top;\n",
              "    }\n",
              "\n",
              "    .dataframe thead th {\n",
              "        text-align: right;\n",
              "    }\n",
              "</style>\n",
              "<table border=\"1\" class=\"dataframe\">\n",
              "  <thead>\n",
              "    <tr style=\"text-align: right;\">\n",
              "      <th></th>\n",
              "      <th>uid</th>\n",
              "      <th>app_package</th>\n",
              "      <th>rating</th>\n",
              "      <th>date</th>\n",
              "      <th>app_category</th>\n",
              "      <th>app_name</th>\n",
              "      <th>developer_name</th>\n",
              "      <th>description</th>\n",
              "      <th>content_rating</th>\n",
              "      <th>price</th>\n",
              "    </tr>\n",
              "  </thead>\n",
              "  <tbody>\n",
              "    <tr>\n",
              "      <th>0</th>\n",
              "      <td>00KTAxXg0Ok6u2pH</td>\n",
              "      <td>com.kamagames.roulettist</td>\n",
              "      <td>4</td>\n",
              "      <td>2014-01-23</td>\n",
              "      <td>Casino</td>\n",
              "      <td>Casino Roulette: Roulettist</td>\n",
              "      <td>KamaGames</td>\n",
              "      <td>Play the best free roulette game with millions...</td>\n",
              "      <td>Teen</td>\n",
              "      <td>Install</td>\n",
              "    </tr>\n",
              "    <tr>\n",
              "      <th>1</th>\n",
              "      <td>00KTAxXg0Ok6u2pH</td>\n",
              "      <td>com.amadeus.cmt.client.android</td>\n",
              "      <td>4</td>\n",
              "      <td>2017-01-08</td>\n",
              "      <td>Travel &amp; Local</td>\n",
              "      <td>CheckMyTrip</td>\n",
              "      <td>Amadeus IT Group SA</td>\n",
              "      <td>CheckMyTrip is your complete travel itinerary ...</td>\n",
              "      <td>Everyone</td>\n",
              "      <td>Install</td>\n",
              "    </tr>\n",
              "    <tr>\n",
              "      <th>2</th>\n",
              "      <td>00KTAxXg0Ok6u2pH</td>\n",
              "      <td>com.diggitaldogg.rapempire</td>\n",
              "      <td>5</td>\n",
              "      <td>2021-02-25</td>\n",
              "      <td>Simulation</td>\n",
              "      <td>Snoop Dogg's Rap Empire</td>\n",
              "      <td>diGGital doGG</td>\n",
              "      <td>Are you ready to become a rap legend? Start yo...</td>\n",
              "      <td>Everyone</td>\n",
              "      <td>Install</td>\n",
              "    </tr>\n",
              "    <tr>\n",
              "      <th>3</th>\n",
              "      <td>00KTAxXg0Ok6u2pH</td>\n",
              "      <td>com.citybay.farming.citybuilding</td>\n",
              "      <td>2</td>\n",
              "      <td>2021-03-22</td>\n",
              "      <td>Casual</td>\n",
              "      <td>Farm City: Farming &amp; City Building</td>\n",
              "      <td>Zego Studio</td>\n",
              "      <td>Farm City: City building &amp; Farming is one of t...</td>\n",
              "      <td>Everyone</td>\n",
              "      <td>Install</td>\n",
              "    </tr>\n",
              "    <tr>\n",
              "      <th>4</th>\n",
              "      <td>00KTAxXg0Ok6u2pH</td>\n",
              "      <td>com.disney.datg.videoplatforms.android.abcf</td>\n",
              "      <td>5</td>\n",
              "      <td>2021-04-14</td>\n",
              "      <td>Entertainment</td>\n",
              "      <td>Freeform - Movies &amp; TV Shows</td>\n",
              "      <td>Disney</td>\n",
              "      <td>Watch full episodes of Freeform shows like Cru...</td>\n",
              "      <td>Everyone</td>\n",
              "      <td>Install</td>\n",
              "    </tr>\n",
              "    <tr>\n",
              "      <th>...</th>\n",
              "      <td>...</td>\n",
              "      <td>...</td>\n",
              "      <td>...</td>\n",
              "      <td>...</td>\n",
              "      <td>...</td>\n",
              "      <td>...</td>\n",
              "      <td>...</td>\n",
              "      <td>...</td>\n",
              "      <td>...</td>\n",
              "      <td>...</td>\n",
              "    </tr>\n",
              "    <tr>\n",
              "      <th>13470</th>\n",
              "      <td>zxwV9wJdzJzRdWSL</td>\n",
              "      <td>com.wemesh.android</td>\n",
              "      <td>5</td>\n",
              "      <td>2021-09-21</td>\n",
              "      <td>Entertainment</td>\n",
              "      <td>Rave – Watch Party</td>\n",
              "      <td>Rave Inc.</td>\n",
              "      <td>Watch the latest from Netflix, the most popula...</td>\n",
              "      <td>Teen</td>\n",
              "      <td>Install</td>\n",
              "    </tr>\n",
              "    <tr>\n",
              "      <th>13471</th>\n",
              "      <td>zxwV9wJdzJzRdWSL</td>\n",
              "      <td>com.volcanoforce.lost.global</td>\n",
              "      <td>3</td>\n",
              "      <td>2021-11-12</td>\n",
              "      <td>Adventure</td>\n",
              "      <td>LOST in Blue (Global)</td>\n",
              "      <td>Volcano Force</td>\n",
              "      <td>After surviving a plane crash, you must collec...</td>\n",
              "      <td>Mature 17+</td>\n",
              "      <td>Install</td>\n",
              "    </tr>\n",
              "    <tr>\n",
              "      <th>13472</th>\n",
              "      <td>zyFBTxTPCSbXv7UV</td>\n",
              "      <td>com.betterment</td>\n",
              "      <td>2</td>\n",
              "      <td>2017-07-07</td>\n",
              "      <td>Finance</td>\n",
              "      <td>Betterment: Investing &amp; Saving</td>\n",
              "      <td>Betterment</td>\n",
              "      <td>Invest better with Betterment. Investing apps ...</td>\n",
              "      <td>Everyone</td>\n",
              "      <td>Install</td>\n",
              "    </tr>\n",
              "    <tr>\n",
              "      <th>13473</th>\n",
              "      <td>zyFBTxTPCSbXv7UV</td>\n",
              "      <td>com.etermax.trivia.preguntados2</td>\n",
              "      <td>4</td>\n",
              "      <td>2020-01-02</td>\n",
              "      <td>Trivia</td>\n",
              "      <td>Trivia Crack 2</td>\n",
              "      <td>etermax</td>\n",
              "      <td>🧠 Sharpen your mind with Trivia Crack 2, the b...</td>\n",
              "      <td>Everyone</td>\n",
              "      <td>Install</td>\n",
              "    </tr>\n",
              "    <tr>\n",
              "      <th>13474</th>\n",
              "      <td>zyFBTxTPCSbXv7UV</td>\n",
              "      <td>ly.omegle.android</td>\n",
              "      <td>3</td>\n",
              "      <td>2021-07-15</td>\n",
              "      <td>Social</td>\n",
              "      <td>Omega - Live Random Video Chat</td>\n",
              "      <td>Omega Tech.</td>\n",
              "      <td>Omega, a free random video chat and live talk ...</td>\n",
              "      <td>Mature 17+</td>\n",
              "      <td>Install</td>\n",
              "    </tr>\n",
              "  </tbody>\n",
              "</table>\n",
              "<p>13475 rows × 10 columns</p>\n",
              "</div>"
            ],
            "text/plain": [
              "                    uid                                  app_package  rating  \\\n",
              "0      00KTAxXg0Ok6u2pH                     com.kamagames.roulettist       4   \n",
              "1      00KTAxXg0Ok6u2pH               com.amadeus.cmt.client.android       4   \n",
              "2      00KTAxXg0Ok6u2pH                   com.diggitaldogg.rapempire       5   \n",
              "3      00KTAxXg0Ok6u2pH             com.citybay.farming.citybuilding       2   \n",
              "4      00KTAxXg0Ok6u2pH  com.disney.datg.videoplatforms.android.abcf       5   \n",
              "...                 ...                                          ...     ...   \n",
              "13470  zxwV9wJdzJzRdWSL                           com.wemesh.android       5   \n",
              "13471  zxwV9wJdzJzRdWSL                 com.volcanoforce.lost.global       3   \n",
              "13472  zyFBTxTPCSbXv7UV                               com.betterment       2   \n",
              "13473  zyFBTxTPCSbXv7UV              com.etermax.trivia.preguntados2       4   \n",
              "13474  zyFBTxTPCSbXv7UV                            ly.omegle.android       3   \n",
              "\n",
              "            date    app_category                            app_name  \\\n",
              "0     2014-01-23          Casino         Casino Roulette: Roulettist   \n",
              "1     2017-01-08  Travel & Local                         CheckMyTrip   \n",
              "2     2021-02-25      Simulation             Snoop Dogg's Rap Empire   \n",
              "3     2021-03-22          Casual  Farm City: Farming & City Building   \n",
              "4     2021-04-14   Entertainment        Freeform - Movies & TV Shows   \n",
              "...          ...             ...                                 ...   \n",
              "13470 2021-09-21   Entertainment                  Rave – Watch Party   \n",
              "13471 2021-11-12       Adventure               LOST in Blue (Global)   \n",
              "13472 2017-07-07         Finance      Betterment: Investing & Saving   \n",
              "13473 2020-01-02          Trivia                      Trivia Crack 2   \n",
              "13474 2021-07-15          Social      Omega - Live Random Video Chat   \n",
              "\n",
              "            developer_name                                        description  \\\n",
              "0                KamaGames  Play the best free roulette game with millions...   \n",
              "1      Amadeus IT Group SA  CheckMyTrip is your complete travel itinerary ...   \n",
              "2            diGGital doGG  Are you ready to become a rap legend? Start yo...   \n",
              "3              Zego Studio  Farm City: City building & Farming is one of t...   \n",
              "4                   Disney  Watch full episodes of Freeform shows like Cru...   \n",
              "...                    ...                                                ...   \n",
              "13470            Rave Inc.  Watch the latest from Netflix, the most popula...   \n",
              "13471        Volcano Force  After surviving a plane crash, you must collec...   \n",
              "13472           Betterment  Invest better with Betterment. Investing apps ...   \n",
              "13473              etermax  🧠 Sharpen your mind with Trivia Crack 2, the b...   \n",
              "13474          Omega Tech.  Omega, a free random video chat and live talk ...   \n",
              "\n",
              "      content_rating    price  \n",
              "0               Teen  Install  \n",
              "1           Everyone  Install  \n",
              "2           Everyone  Install  \n",
              "3           Everyone  Install  \n",
              "4           Everyone  Install  \n",
              "...              ...      ...  \n",
              "13470           Teen  Install  \n",
              "13471     Mature 17+  Install  \n",
              "13472       Everyone  Install  \n",
              "13473       Everyone  Install  \n",
              "13474     Mature 17+  Install  \n",
              "\n",
              "[13475 rows x 10 columns]"
            ]
          },
          "execution_count": 59,
          "metadata": {},
          "output_type": "execute_result"
        }
      ],
      "source": [
        "train_df"
      ]
    },
    {
      "cell_type": "code",
      "execution_count": 60,
      "metadata": {
        "colab": {
          "base_uri": "https://localhost:8080/",
          "height": 398
        },
        "id": "mTHsFn3TtGhp",
        "outputId": "f5832bb9-5771-4706-9d0f-f2d95243b7f3"
      },
      "outputs": [
        {
          "data": {
            "text/plain": [
              "uid               0\n",
              "app_package       0\n",
              "rating            0\n",
              "date              0\n",
              "app_category      0\n",
              "app_name          0\n",
              "developer_name    0\n",
              "description       0\n",
              "content_rating    0\n",
              "price             0\n",
              "dtype: int64"
            ]
          },
          "execution_count": 60,
          "metadata": {},
          "output_type": "execute_result"
        }
      ],
      "source": [
        "train_df.isnull().sum()"
      ]
    },
    {
      "cell_type": "code",
      "execution_count": 61,
      "metadata": {
        "colab": {
          "base_uri": "https://localhost:8080/"
        },
        "id": "VewKqXrSBa-W",
        "outputId": "d6063242-672d-449e-ab3b-398caef7ac10"
      },
      "outputs": [
        {
          "data": {
            "text/plain": [
              "(dtype('O'), dtype('O'), dtype('int64'))"
            ]
          },
          "execution_count": 61,
          "metadata": {},
          "output_type": "execute_result"
        }
      ],
      "source": [
        "np.dtype(train_df['uid']), np.dtype(train_df['app_package']), np.dtype(train_df['rating'])"
      ]
    },
    {
      "cell_type": "code",
      "execution_count": 62,
      "metadata": {
        "colab": {
          "base_uri": "https://localhost:8080/",
          "height": 564
        },
        "id": "OmmTAvj_nHg6",
        "outputId": "5cfe59d1-bca6-45ed-9ffb-fe6d0e1b514e"
      },
      "outputs": [
        {
          "data": {
            "image/png": "[encoded data removed]",
            "text/plain": [
              "<Figure size 1000x600 with 1 Axes>"
            ]
          },
          "metadata": {},
          "output_type": "display_data"
        }
      ],
      "source": [
        "# Group by uid and calculate the average rating\n",
        "avg_rating_per_user = train_df.groupby('uid')['rating'].mean().reset_index()\n",
        "avg_rating_per_user.columns = ['uid', 'avg_rating']\n",
        "\n",
        "# Plot the distribution of the average ratings\n",
        "plt.figure(figsize=(10, 6))\n",
        "sns.histplot(avg_rating_per_user['avg_rating'], bins=8, kde=True)\n",
        "plt.title('Distribution of Average User Ratings')\n",
        "plt.xlabel('Average Rating')\n",
        "plt.ylabel('Number of Users')\n",
        "plt.grid(True)\n",
        "plt.show()"
      ]
    },
    {
      "cell_type": "code",
      "execution_count": 63,
      "metadata": {
        "colab": {
          "base_uri": "https://localhost:8080/",
          "height": 1621
        },
        "id": "fDehCBCGsYXO",
        "outputId": "990ae926-0fd7-4a8f-8c18-ad134cf06ae6"
      },
      "outputs": [
        {
          "data": {
            "text/plain": [
              "app_category\n",
              "Action                     966\n",
              "Role Playing               957\n",
              "Simulation                 758\n",
              "Strategy                   750\n",
              "Casual                     619\n",
              "Puzzle                     605\n",
              "Finance                    447\n",
              "Productivity               445\n",
              "Adventure                  421\n",
              "Sports                     421\n",
              "Arcade                     403\n",
              "Education                  381\n",
              "Shopping                   375\n",
              "Entertainment              372\n",
              "Tools                      319\n",
              "Music & Audio              298\n",
              "Health & Fitness           294\n",
              "Business                   268\n",
              "Educational                263\n",
              "Casino                     262\n",
              "Social                     254\n",
              "Word                       243\n",
              "Dating                     243\n",
              "Medical                    237\n",
              "Photography                229\n",
              "Racing                     216\n",
              "Travel & Local             216\n",
              "Card                       208\n",
              "Communication              204\n",
              "Lifestyle                  199\n",
              "Food & Drink               185\n",
              "Board                      154\n",
              "Books & Reference          152\n",
              "Video Players & Editors    138\n",
              "Maps & Navigation          115\n",
              "News & Magazines           111\n",
              "Libraries & Demo           102\n",
              "Personalization            101\n",
              "Music                       83\n",
              "Weather                     75\n",
              "House & Home                73\n",
              "Parenting                   64\n",
              "Art & Design                63\n",
              "Auto & Vehicles             53\n",
              "Comics                      52\n",
              "Trivia                      46\n",
              "Events                      18\n",
              "Beauty                      17\n",
              "Name: count, dtype: int64"
            ]
          },
          "execution_count": 63,
          "metadata": {},
          "output_type": "execute_result"
        }
      ],
      "source": [
        "train_df.app_category.value_counts().sort_values(ascending=False)"
      ]
    },
    {
      "cell_type": "code",
      "execution_count": 64,
      "metadata": {},
      "outputs": [
        {
          "data": {
            "text/html": [
              "<div>\n",
              "<style scoped>\n",
              "    .dataframe tbody tr th:only-of-type {\n",
              "        vertical-align: middle;\n",
              "    }\n",
              "\n",
              "    .dataframe tbody tr th {\n",
              "        vertical-align: top;\n",
              "    }\n",
              "\n",
              "    .dataframe thead th {\n",
              "        text-align: right;\n",
              "    }\n",
              "</style>\n",
              "<table border=\"1\" class=\"dataframe\">\n",
              "  <thead>\n",
              "    <tr style=\"text-align: right;\">\n",
              "      <th></th>\n",
              "      <th>uid</th>\n",
              "      <th>app_package</th>\n",
              "      <th>rating</th>\n",
              "      <th>date</th>\n",
              "      <th>app_category</th>\n",
              "      <th>app_name</th>\n",
              "      <th>developer_name</th>\n",
              "      <th>description</th>\n",
              "      <th>content_rating</th>\n",
              "      <th>price</th>\n",
              "    </tr>\n",
              "  </thead>\n",
              "  <tbody>\n",
              "    <tr>\n",
              "      <th>0</th>\n",
              "      <td>00KTAxXg0Ok6u2pH</td>\n",
              "      <td>com.kamagames.roulettist</td>\n",
              "      <td>4</td>\n",
              "      <td>2014-01-23</td>\n",
              "      <td>Casino</td>\n",
              "      <td>Casino Roulette: Roulettist</td>\n",
              "      <td>KamaGames</td>\n",
              "      <td>Play the best free roulette game with millions...</td>\n",
              "      <td>Teen</td>\n",
              "      <td>Install</td>\n",
              "    </tr>\n",
              "    <tr>\n",
              "      <th>1</th>\n",
              "      <td>00KTAxXg0Ok6u2pH</td>\n",
              "      <td>com.amadeus.cmt.client.android</td>\n",
              "      <td>4</td>\n",
              "      <td>2017-01-08</td>\n",
              "      <td>Travel &amp; Local</td>\n",
              "      <td>CheckMyTrip</td>\n",
              "      <td>Amadeus IT Group SA</td>\n",
              "      <td>CheckMyTrip is your complete travel itinerary ...</td>\n",
              "      <td>Everyone</td>\n",
              "      <td>Install</td>\n",
              "    </tr>\n",
              "    <tr>\n",
              "      <th>2</th>\n",
              "      <td>00KTAxXg0Ok6u2pH</td>\n",
              "      <td>com.diggitaldogg.rapempire</td>\n",
              "      <td>5</td>\n",
              "      <td>2021-02-25</td>\n",
              "      <td>Simulation</td>\n",
              "      <td>Snoop Dogg's Rap Empire</td>\n",
              "      <td>diGGital doGG</td>\n",
              "      <td>Are you ready to become a rap legend? Start yo...</td>\n",
              "      <td>Everyone</td>\n",
              "      <td>Install</td>\n",
              "    </tr>\n",
              "    <tr>\n",
              "      <th>3</th>\n",
              "      <td>00KTAxXg0Ok6u2pH</td>\n",
              "      <td>com.citybay.farming.citybuilding</td>\n",
              "      <td>2</td>\n",
              "      <td>2021-03-22</td>\n",
              "      <td>Casual</td>\n",
              "      <td>Farm City: Farming &amp; City Building</td>\n",
              "      <td>Zego Studio</td>\n",
              "      <td>Farm City: City building &amp; Farming is one of t...</td>\n",
              "      <td>Everyone</td>\n",
              "      <td>Install</td>\n",
              "    </tr>\n",
              "    <tr>\n",
              "      <th>4</th>\n",
              "      <td>00KTAxXg0Ok6u2pH</td>\n",
              "      <td>com.disney.datg.videoplatforms.android.abcf</td>\n",
              "      <td>5</td>\n",
              "      <td>2021-04-14</td>\n",
              "      <td>Entertainment</td>\n",
              "      <td>Freeform - Movies &amp; TV Shows</td>\n",
              "      <td>Disney</td>\n",
              "      <td>Watch full episodes of Freeform shows like Cru...</td>\n",
              "      <td>Everyone</td>\n",
              "      <td>Install</td>\n",
              "    </tr>\n",
              "    <tr>\n",
              "      <th>...</th>\n",
              "      <td>...</td>\n",
              "      <td>...</td>\n",
              "      <td>...</td>\n",
              "      <td>...</td>\n",
              "      <td>...</td>\n",
              "      <td>...</td>\n",
              "      <td>...</td>\n",
              "      <td>...</td>\n",
              "      <td>...</td>\n",
              "      <td>...</td>\n",
              "    </tr>\n",
              "    <tr>\n",
              "      <th>13470</th>\n",
              "      <td>zxwV9wJdzJzRdWSL</td>\n",
              "      <td>com.wemesh.android</td>\n",
              "      <td>5</td>\n",
              "      <td>2021-09-21</td>\n",
              "      <td>Entertainment</td>\n",
              "      <td>Rave – Watch Party</td>\n",
              "      <td>Rave Inc.</td>\n",
              "      <td>Watch the latest from Netflix, the most popula...</td>\n",
              "      <td>Teen</td>\n",
              "      <td>Install</td>\n",
              "    </tr>\n",
              "    <tr>\n",
              "      <th>13471</th>\n",
              "      <td>zxwV9wJdzJzRdWSL</td>\n",
              "      <td>com.volcanoforce.lost.global</td>\n",
              "      <td>3</td>\n",
              "      <td>2021-11-12</td>\n",
              "      <td>Adventure</td>\n",
              "      <td>LOST in Blue (Global)</td>\n",
              "      <td>Volcano Force</td>\n",
              "      <td>After surviving a plane crash, you must collec...</td>\n",
              "      <td>Mature 17+</td>\n",
              "      <td>Install</td>\n",
              "    </tr>\n",
              "    <tr>\n",
              "      <th>13472</th>\n",
              "      <td>zyFBTxTPCSbXv7UV</td>\n",
              "      <td>com.betterment</td>\n",
              "      <td>2</td>\n",
              "      <td>2017-07-07</td>\n",
              "      <td>Finance</td>\n",
              "      <td>Betterment: Investing &amp; Saving</td>\n",
              "      <td>Betterment</td>\n",
              "      <td>Invest better with Betterment. Investing apps ...</td>\n",
              "      <td>Everyone</td>\n",
              "      <td>Install</td>\n",
              "    </tr>\n",
              "    <tr>\n",
              "      <th>13473</th>\n",
              "      <td>zyFBTxTPCSbXv7UV</td>\n",
              "      <td>com.etermax.trivia.preguntados2</td>\n",
              "      <td>4</td>\n",
              "      <td>2020-01-02</td>\n",
              "      <td>Trivia</td>\n",
              "      <td>Trivia Crack 2</td>\n",
              "      <td>etermax</td>\n",
              "      <td>🧠 Sharpen your mind with Trivia Crack 2, the b...</td>\n",
              "      <td>Everyone</td>\n",
              "      <td>Install</td>\n",
              "    </tr>\n",
              "    <tr>\n",
              "      <th>13474</th>\n",
              "      <td>zyFBTxTPCSbXv7UV</td>\n",
              "      <td>ly.omegle.android</td>\n",
              "      <td>3</td>\n",
              "      <td>2021-07-15</td>\n",
              "      <td>Social</td>\n",
              "      <td>Omega - Live Random Video Chat</td>\n",
              "      <td>Omega Tech.</td>\n",
              "      <td>Omega, a free random video chat and live talk ...</td>\n",
              "      <td>Mature 17+</td>\n",
              "      <td>Install</td>\n",
              "    </tr>\n",
              "  </tbody>\n",
              "</table>\n",
              "<p>13475 rows × 10 columns</p>\n",
              "</div>"
            ],
            "text/plain": [
              "                    uid                                  app_package  rating  \\\n",
              "0      00KTAxXg0Ok6u2pH                     com.kamagames.roulettist       4   \n",
              "1      00KTAxXg0Ok6u2pH               com.amadeus.cmt.client.android       4   \n",
              "2      00KTAxXg0Ok6u2pH                   com.diggitaldogg.rapempire       5   \n",
              "3      00KTAxXg0Ok6u2pH             com.citybay.farming.citybuilding       2   \n",
              "4      00KTAxXg0Ok6u2pH  com.disney.datg.videoplatforms.android.abcf       5   \n",
              "...                 ...                                          ...     ...   \n",
              "13470  zxwV9wJdzJzRdWSL                           com.wemesh.android       5   \n",
              "13471  zxwV9wJdzJzRdWSL                 com.volcanoforce.lost.global       3   \n",
              "13472  zyFBTxTPCSbXv7UV                               com.betterment       2   \n",
              "13473  zyFBTxTPCSbXv7UV              com.etermax.trivia.preguntados2       4   \n",
              "13474  zyFBTxTPCSbXv7UV                            ly.omegle.android       3   \n",
              "\n",
              "            date    app_category                            app_name  \\\n",
              "0     2014-01-23          Casino         Casino Roulette: Roulettist   \n",
              "1     2017-01-08  Travel & Local                         CheckMyTrip   \n",
              "2     2021-02-25      Simulation             Snoop Dogg's Rap Empire   \n",
              "3     2021-03-22          Casual  Farm City: Farming & City Building   \n",
              "4     2021-04-14   Entertainment        Freeform - Movies & TV Shows   \n",
              "...          ...             ...                                 ...   \n",
              "13470 2021-09-21   Entertainment                  Rave – Watch Party   \n",
              "13471 2021-11-12       Adventure               LOST in Blue (Global)   \n",
              "13472 2017-07-07         Finance      Betterment: Investing & Saving   \n",
              "13473 2020-01-02          Trivia                      Trivia Crack 2   \n",
              "13474 2021-07-15          Social      Omega - Live Random Video Chat   \n",
              "\n",
              "            developer_name                                        description  \\\n",
              "0                KamaGames  Play the best free roulette game with millions...   \n",
              "1      Amadeus IT Group SA  CheckMyTrip is your complete travel itinerary ...   \n",
              "2            diGGital doGG  Are you ready to become a rap legend? Start yo...   \n",
              "3              Zego Studio  Farm City: City building & Farming is one of t...   \n",
              "4                   Disney  Watch full episodes of Freeform shows like Cru...   \n",
              "...                    ...                                                ...   \n",
              "13470            Rave Inc.  Watch the latest from Netflix, the most popula...   \n",
              "13471        Volcano Force  After surviving a plane crash, you must collec...   \n",
              "13472           Betterment  Invest better with Betterment. Investing apps ...   \n",
              "13473              etermax  🧠 Sharpen your mind with Trivia Crack 2, the b...   \n",
              "13474          Omega Tech.  Omega, a free random video chat and live talk ...   \n",
              "\n",
              "      content_rating    price  \n",
              "0               Teen  Install  \n",
              "1           Everyone  Install  \n",
              "2           Everyone  Install  \n",
              "3           Everyone  Install  \n",
              "4           Everyone  Install  \n",
              "...              ...      ...  \n",
              "13470           Teen  Install  \n",
              "13471     Mature 17+  Install  \n",
              "13472       Everyone  Install  \n",
              "13473       Everyone  Install  \n",
              "13474     Mature 17+  Install  \n",
              "\n",
              "[13475 rows x 10 columns]"
            ]
          },
          "execution_count": 64,
          "metadata": {},
          "output_type": "execute_result"
        }
      ],
      "source": [
        "train_df"
      ]
    },
    {
      "cell_type": "code",
      "execution_count": 65,
      "metadata": {
        "colab": {
          "base_uri": "https://localhost:8080/",
          "height": 147
        },
        "id": "UJ-JLPO_UxMg",
        "outputId": "cdfba293-9916-4c4e-d216-726eec1ae8d6"
      },
      "outputs": [
        {
          "data": {
            "text/plain": [
              "Free    91.7%\n",
              "Paid     8.3%\n",
              "Name: proportion, dtype: object"
            ]
          },
          "execution_count": 65,
          "metadata": {},
          "output_type": "execute_result"
        }
      ],
      "source": [
        "# Show proportion of free vs. paid apps (based on unique apps, not user interactions)\n",
        "app_price = train_df.drop_duplicates(\"app_package\")[\"price\"]\n",
        "price_proportion = (app_price == 'Install').value_counts(normalize=True).mul(100).round(1).astype(str) + '%'\n",
        "price_proportion = price_proportion.set_axis(['Free', 'Paid'], axis=0)\n",
        "price_proportion"
      ]
    },
    {
      "cell_type": "markdown",
      "metadata": {
        "id": "9_dY4PhJWnRf"
      },
      "source": [
        "I considered using the `price` column (free vs. paid) as part of the analysis, but decided against it for a couple of reasons.\n",
        "\n",
        "First, there's a clear imbalance — **91.7% of apps are free**, so the feature wouldn't add much signal on its own.\n",
        "\n",
        "More importantly, whether someone is willing to pay for an app depends on personal factors we don’t have access to — like income, spending habits, or willingness to make in-app purchases. Some users might never pay for anything, while others are totally fine with premium apps. Since we don't have that kind of background info, including `price` would just add a lot of noise that the model can't really learn from.\n",
        "\n",
        "So for now, I chose to leave it out."
      ]
    },
    {
      "cell_type": "code",
      "execution_count": 66,
      "metadata": {
        "colab": {
          "base_uri": "https://localhost:8080/",
          "height": 472
        },
        "id": "nIR025Tq-Zjr",
        "outputId": "7c197e1b-c890-4d0a-8e0b-55f0ceb83541"
      },
      "outputs": [
        {
          "data": {
            "image/png": "[encoded data removed]",
            "text/plain": [
              "<Figure size 640x480 with 1 Axes>"
            ]
          },
          "metadata": {},
          "output_type": "display_data"
        }
      ],
      "source": [
        "plt.hist(train_df['date'].astype('datetime64[ns]'), bins=12, color='orange', edgecolor='black')\n",
        "plt.title(\"Interaction Timeline\"); plt.xlabel(\"Year\"); plt.ylabel(\"Count\")\n",
        "plt.show()"
      ]
    },
    {
      "cell_type": "code",
      "execution_count": 67,
      "metadata": {
        "colab": {
          "base_uri": "https://localhost:8080/"
        },
        "id": "j_g8pQtQ-sGD",
        "outputId": "72796cfa-1deb-4188-bc48-675311036e5e"
      },
      "outputs": [
        {
          "name": "stdout",
          "output_type": "stream",
          "text": [
            "Top-10 most-active users:\n",
            " uid\n",
            "NqhTSgQq5RyzlrFA    23\n",
            "OtyCrcFKUhiRCRdw    21\n",
            "mElk8Wh1bcWXwlWo    17\n",
            "GEiCLNtznzoMosD9    16\n",
            "3Mdnpdne4njknJ62    16\n",
            "k8MxgRYOLFmJKzP6    16\n",
            "LIIhCYqcUSRe2AuH    16\n",
            "N5xtJv0x8XfHFlIK    16\n",
            "mk7aTgaLBekPAryt    15\n",
            "gHWw3XaUav78ez3l    15\n",
            "dtype: int64\n"
          ]
        }
      ],
      "source": [
        "user_counts = train_df.groupby('uid').size().sort_values(ascending=False)\n",
        "print(\"Top-10 most-active users:\\n\", user_counts.head(10))"
      ]
    },
    {
      "cell_type": "markdown",
      "metadata": {
        "id": "OLvkskj9ZFfb"
      },
      "source": [
        "## Collaborative Filtering Model"
      ]
    },
    {
      "cell_type": "markdown",
      "metadata": {
        "id": "IfNSK9i2aHrf"
      },
      "source": [
        "For this project, I used **RMSE (Root Mean Squared Error)** and **MAE (Mean Absolute Error)** to evaluate how well the model predicts user ratings.\n",
        "\n",
        "- **MAE** is helpful because it tells me, on average, how far off the predictions are — it's easy to interpret and treats all errors equally.\n",
        "- **RMSE**, on the other hand, gives more weight to larger errors. This is useful in a recommendation setting, where being slightly off is usually fine, but being way off stands out a lot more.\n",
        "\n",
        "Since I'm trying to avoid those bigger misses, I used **RMSE as the main metric** to compare models during validation. It gave me a better sense of which models were not only consistent but also avoided those larger off-target predictions.\n"
      ]
    },
    {
      "cell_type": "code",
      "execution_count": 68,
      "metadata": {
        "colab": {
          "base_uri": "https://localhost:8080/"
        },
        "id": "2NxyIDlQGWfU",
        "outputId": "07d5d792-96be-472d-c889-4aba0e81d515"
      },
      "outputs": [
        {
          "name": "stdout",
          "output_type": "stream",
          "text": [
            "Training and validating: BaselineOnly\n",
            "Estimating biases using als...\n",
            "Training and validating: SVD\n",
            "Training and validating: SVD++\n",
            "Training and validating: NMF\n",
            "Training and validating: KNNBaseline\n",
            "Estimating biases using als...\n",
            "Computing the cosine similarity matrix...\n",
            "Done computing similarity matrix.\n",
            "Training and validating: KNNWithZScore\n",
            "Computing the cosine similarity matrix...\n",
            "Done computing similarity matrix.\n",
            "Training and validating: NormalPredictor\n",
            "\n",
            "Validation Results (sorted by RMSE):\n",
            "             Model  Val_RMSE   Val_MAE\n",
            "0              SVD  1.600218  1.438048\n",
            "1            SVD++  1.613026  1.443059\n",
            "2    KNNWithZScore  1.765808  1.489195\n",
            "3              NMF  1.915600  1.620716\n",
            "4     BaselineOnly  1.930068  1.578721\n",
            "5      KNNBaseline  1.930351  1.576092\n",
            "6  NormalPredictor  2.029982  1.660263\n",
            "\n",
            "Best Model by RMSE on validation: SVD\n"
          ]
        }
      ],
      "source": [
        "for df in (train_df, val_df):\n",
        "    df[\"uid\"] = df[\"uid\"].astype(str)\n",
        "    df[\"app_package\"] = df[\"app_package\"].astype(str)\n",
        "    df[\"rating\"] = df[\"rating\"].astype(float)\n",
        "\n",
        "reader = Reader(rating_scale=(train_df.rating.min(), train_df.rating.max()))\n",
        "data_train = Dataset.load_from_df(train_df[[\"uid\", \"app_package\", \"rating\"]], reader)\n",
        "trainset = data_train.build_full_trainset()\n",
        "\n",
        "sim_options = {\"name\": \"cosine\", \"user_based\": False}\n",
        "bsl_options = {\"method\": \"als\", \"n_epochs\": 20, \"reg_u\": 0.02, \"reg_i\": 0.02}\n",
        "models = {\n",
        "    \"BaselineOnly\": BaselineOnly(bsl_options=bsl_options),\n",
        "    \"SVD\": SVD(),\n",
        "    \"SVD++\": SVDpp(),\n",
        "    \"NMF\": NMF(),\n",
        "    \"KNNBaseline\": KNNBaseline(sim_options=sim_options, bsl_options=bsl_options),\n",
        "    \"KNNWithZScore\": KNNWithZScore(sim_options=sim_options),\n",
        "    \"NormalPredictor\": NormalPredictor(),\n",
        "}\n",
        "\n",
        "results = []\n",
        "for name, model in models.items():\n",
        "    print(f\"Training and validating: {name}\")\n",
        "    model.fit(trainset)\n",
        "\n",
        "    val_preds = [model.predict(row.uid, row.app_package, r_ui=row.rating)\n",
        "                 for _, row in val_df.iterrows()]\n",
        "    rmse = accuracy.rmse(val_preds, verbose=False)\n",
        "    mae = accuracy.mae(val_preds, verbose=False)\n",
        "\n",
        "    results.append({\n",
        "        \"Model\": name,\n",
        "        \"Val_RMSE\": rmse,\n",
        "        \"Val_MAE\": mae\n",
        "    })\n",
        "\n",
        "df_results = pd.DataFrame(results).sort_values(\"Val_RMSE\").reset_index(drop=True)\n",
        "best_model_name = df_results.loc[0, \"Model\"]\n",
        "\n",
        "print(\"\\nValidation Results (sorted by RMSE):\")\n",
        "print(df_results)\n",
        "print(f\"\\nBest Model by RMSE on validation: {best_model_name}\")\n"
      ]
    },
    {
      "cell_type": "markdown",
      "metadata": {
        "id": "sLm54MLufQUm"
      },
      "source": [
        "After identifying SVD and SVD++ as the top performers during model evaluation, I decided to focus my grid search on these two. The goal here was to fine-tune their hyperparameters and strike a good balance between underfitting and overfitting. I experimented with different combinations of latent factors, regularization strength, learning rate (for SVD), and the number of training epochs to see how they influenced performance. Each combination was evaluated using RMSE and MAE on the validation set, and the best-performing model was selected based on the lowest RMSE. This process helps ensure that the model not only fits the training data well but also generalizes better to unseen data.\n",
        "\n",
        "That said, despite tuning, there's still some degree of overfitting. The validation RMSE hovers around 1.59, which is noticeably higher than the training RMSE (not shown here but observed during model fitting). This is likely due to the inherent sparsity of the data—many users have interacted with only a few apps—making it hard for the model to generalize well across such limited signals. In that context, even well-tuned models can struggle to predict ratings for unfamiliar users or niche items, which is a common challenge in real-world recommender systems."
      ]
    },
    {
      "cell_type": "code",
      "execution_count": 69,
      "metadata": {
        "colab": {
          "base_uri": "https://localhost:8080/",
          "height": 432
        },
        "id": "oJocvRfuuOYi",
        "outputId": "74865c34-7d74-4054-98af-4324b664eeb6"
      },
      "outputs": [
        {
          "name": "stdout",
          "output_type": "stream",
          "text": [
            "\n",
            "Top Grid Search Results (sorted by RMSE):\n"
          ]
        },
        {
          "data": {
            "text/html": [
              "<div>\n",
              "<style scoped>\n",
              "    .dataframe tbody tr th:only-of-type {\n",
              "        vertical-align: middle;\n",
              "    }\n",
              "\n",
              "    .dataframe tbody tr th {\n",
              "        vertical-align: top;\n",
              "    }\n",
              "\n",
              "    .dataframe thead th {\n",
              "        text-align: right;\n",
              "    }\n",
              "</style>\n",
              "<table border=\"1\" class=\"dataframe\">\n",
              "  <thead>\n",
              "    <tr style=\"text-align: right;\">\n",
              "      <th></th>\n",
              "      <th>Model</th>\n",
              "      <th>Params</th>\n",
              "      <th>Val_RMSE</th>\n",
              "      <th>Val_MAE</th>\n",
              "    </tr>\n",
              "  </thead>\n",
              "  <tbody>\n",
              "    <tr>\n",
              "      <th>0</th>\n",
              "      <td>SVD</td>\n",
              "      <td>factors=50, reg=0.05, lr=0.002, epochs=10</td>\n",
              "      <td>1.588554</td>\n",
              "      <td>1.438198</td>\n",
              "    </tr>\n",
              "    <tr>\n",
              "      <th>1</th>\n",
              "      <td>SVD</td>\n",
              "      <td>factors=50, reg=0.02, lr=0.002, epochs=10</td>\n",
              "      <td>1.588562</td>\n",
              "      <td>1.438192</td>\n",
              "    </tr>\n",
              "    <tr>\n",
              "      <th>2</th>\n",
              "      <td>SVD</td>\n",
              "      <td>factors=50, reg=0.01, lr=0.002, epochs=10</td>\n",
              "      <td>1.588564</td>\n",
              "      <td>1.438190</td>\n",
              "    </tr>\n",
              "    <tr>\n",
              "      <th>3</th>\n",
              "      <td>SVD</td>\n",
              "      <td>factors=50, reg=0.05, lr=0.002, epochs=20</td>\n",
              "      <td>1.588790</td>\n",
              "      <td>1.435984</td>\n",
              "    </tr>\n",
              "    <tr>\n",
              "      <th>4</th>\n",
              "      <td>SVD</td>\n",
              "      <td>factors=50, reg=0.02, lr=0.002, epochs=20</td>\n",
              "      <td>1.588827</td>\n",
              "      <td>1.435990</td>\n",
              "    </tr>\n",
              "    <tr>\n",
              "      <th>5</th>\n",
              "      <td>SVD</td>\n",
              "      <td>factors=50, reg=0.01, lr=0.002, epochs=20</td>\n",
              "      <td>1.588839</td>\n",
              "      <td>1.435992</td>\n",
              "    </tr>\n",
              "    <tr>\n",
              "      <th>6</th>\n",
              "      <td>SVD</td>\n",
              "      <td>factors=20, reg=0.05, lr=0.002, epochs=20</td>\n",
              "      <td>1.589589</td>\n",
              "      <td>1.437202</td>\n",
              "    </tr>\n",
              "    <tr>\n",
              "      <th>7</th>\n",
              "      <td>SVD</td>\n",
              "      <td>factors=20, reg=0.02, lr=0.002, epochs=20</td>\n",
              "      <td>1.589629</td>\n",
              "      <td>1.437219</td>\n",
              "    </tr>\n",
              "    <tr>\n",
              "      <th>8</th>\n",
              "      <td>SVD</td>\n",
              "      <td>factors=20, reg=0.01, lr=0.002, epochs=20</td>\n",
              "      <td>1.589642</td>\n",
              "      <td>1.437225</td>\n",
              "    </tr>\n",
              "    <tr>\n",
              "      <th>9</th>\n",
              "      <td>SVD</td>\n",
              "      <td>factors=20, reg=0.05, lr=0.002, epochs=10</td>\n",
              "      <td>1.589649</td>\n",
              "      <td>1.439960</td>\n",
              "    </tr>\n",
              "  </tbody>\n",
              "</table>\n",
              "</div>"
            ],
            "text/plain": [
              "  Model                                     Params  Val_RMSE   Val_MAE\n",
              "0   SVD  factors=50, reg=0.05, lr=0.002, epochs=10  1.588554  1.438198\n",
              "1   SVD  factors=50, reg=0.02, lr=0.002, epochs=10  1.588562  1.438192\n",
              "2   SVD  factors=50, reg=0.01, lr=0.002, epochs=10  1.588564  1.438190\n",
              "3   SVD  factors=50, reg=0.05, lr=0.002, epochs=20  1.588790  1.435984\n",
              "4   SVD  factors=50, reg=0.02, lr=0.002, epochs=20  1.588827  1.435990\n",
              "5   SVD  factors=50, reg=0.01, lr=0.002, epochs=20  1.588839  1.435992\n",
              "6   SVD  factors=20, reg=0.05, lr=0.002, epochs=20  1.589589  1.437202\n",
              "7   SVD  factors=20, reg=0.02, lr=0.002, epochs=20  1.589629  1.437219\n",
              "8   SVD  factors=20, reg=0.01, lr=0.002, epochs=20  1.589642  1.437225\n",
              "9   SVD  factors=20, reg=0.05, lr=0.002, epochs=10  1.589649  1.439960"
            ]
          },
          "metadata": {},
          "output_type": "display_data"
        },
        {
          "name": "stdout",
          "output_type": "stream",
          "text": [
            "\n",
            "Best Tuned Model: SVD with params: factors=50, reg=0.05, lr=0.002, epochs=10\n"
          ]
        }
      ],
      "source": [
        "def eval_model(model, trainset, val_df):\n",
        "    model.fit(trainset)\n",
        "    val_preds = [model.predict(row.uid, row.app_package, r_ui=row.rating) for _, row in val_df.iterrows()]\n",
        "    rmse = accuracy.rmse(val_preds, verbose=False)\n",
        "    mae = accuracy.mae(val_preds, verbose=False)\n",
        "    return rmse, mae\n",
        "\n",
        "reader = Reader(rating_scale=(train_df.rating.min(), train_df.rating.max()))\n",
        "train_data = Dataset.load_from_df(train_df[[\"uid\", \"app_package\", \"rating\"]], reader)\n",
        "trainset = train_data.build_full_trainset()\n",
        "\n",
        "grid_results = []\n",
        "for n_factors, reg_all, lr_all, n_epochs in product(\n",
        "    [20, 50, 100, 150],\n",
        "    [0.01, 0.02, 0.05],\n",
        "    [0.002, 0.005, 0.01],\n",
        "    [10, 20]\n",
        "):\n",
        "    model = SVD(n_factors=n_factors, reg_all=reg_all, lr_all=lr_all, n_epochs=n_epochs, random_state=123)\n",
        "    rmse, mae = eval_model(model, trainset, val_df)\n",
        "    grid_results.append({\n",
        "        \"Model\": \"SVD\",\n",
        "        \"Params\": f\"factors={n_factors}, reg={reg_all}, lr={lr_all}, epochs={n_epochs}\",\n",
        "        \"Val_RMSE\": rmse,\n",
        "        \"Val_MAE\": mae,\n",
        "        \"ModelObj\": model\n",
        "    })\n",
        "\n",
        "for n_factors, reg_all, n_epochs in product(\n",
        "    [20, 50, 100, 150],\n",
        "    [0.01, 0.02, 0.05],\n",
        "    [10, 20]\n",
        "):\n",
        "    model = SVDpp(n_factors=n_factors, reg_all=reg_all, n_epochs=n_epochs, random_state=123)\n",
        "    rmse, mae = eval_model(model, trainset, val_df)\n",
        "    grid_results.append({\n",
        "        \"Model\": \"SVD++\",\n",
        "        \"Params\": f\"factors={n_factors}, reg={reg_all}, epochs={n_epochs}\",\n",
        "        \"Val_RMSE\": rmse,\n",
        "        \"Val_MAE\": mae,\n",
        "        \"ModelObj\": model\n",
        "    })\n",
        "\n",
        "df_grid = pd.DataFrame(grid_results).sort_values(\"Val_RMSE\").reset_index(drop=True)\n",
        "best_row = df_grid.iloc[0]\n",
        "best_model_tuned = best_row[\"ModelObj\"]\n",
        "\n",
        "print(\"\\nTop Grid Search Results (sorted by RMSE):\")\n",
        "display(df_grid[[\"Model\", \"Params\", \"Val_RMSE\", \"Val_MAE\"]].head(10))\n",
        "print(f\"\\nBest Tuned Model: {best_row['Model']} with params: {best_row['Params']}\")\n",
        "\n"
      ]
    },
    {
      "cell_type": "markdown",
      "metadata": {
        "id": "Sk0pBcWIgerS"
      },
      "source": [
        "## Content-Based Filtering Model"
      ]
    },
    {
      "cell_type": "markdown",
      "metadata": {
        "id": "-INtscRuhPs8"
      },
      "source": [
        "Clean and combine app name and description into a unified content_text column for content-based filtering."
      ]
    },
    {
      "cell_type": "code",
      "execution_count": 70,
      "metadata": {
        "id": "zyVq-dK5seyY"
      },
      "outputs": [],
      "source": [
        "def clean_text(text):\n",
        "    text = text.encode('ascii', 'ignore').decode('ascii')\n",
        "    text = text.lower()\n",
        "    text = re.sub(r'[^a-z\\s]', '', text)\n",
        "    text = re.sub(r'\\s+', ' ', text).strip()\n",
        "    return text\n",
        "\n",
        "def add_content_text_column(df):\n",
        "    df[\"app_name_clean\"] = df[\"app_name\"].fillna(\"\").apply(clean_text)\n",
        "    df[\"description_clean\"] = df[\"description\"].fillna(\"\").apply(clean_text)\n",
        "    df[\"content_text\"] = df[\"app_name_clean\"] + \" \" + df[\"description_clean\"]\n",
        "    return df\n",
        "\n",
        "\n",
        "train_df = add_content_text_column(train_df)\n"
      ]
    },
    {
      "cell_type": "code",
      "execution_count": 71,
      "metadata": {
        "id": "jGbM8wx0sng7"
      },
      "outputs": [],
      "source": [
        "val_df = add_content_text_column(val_df)\n",
        "test_df = add_content_text_column(test_df)"
      ]
    },
    {
      "cell_type": "markdown",
      "metadata": {
        "id": "6p2z5Wq1lUoR"
      },
      "source": [
        "This block implements a content-based model using TF-IDF and K-Nearest Neighbors to recommend apps based on text similarity. I vectorized the cleaned app name and description, then used cosine distance to find the top k most similar apps. In the training loop, I used k+1 neighbors and excluded the app itself, since it’s always its own closest match. In the validation loop, I used exactly k because the app being evaluated is from the validation set and doesn’t exist in the training TF-IDF matrix — even if the same app appears in both sets for different users, it won’t be matched to itself. I tested a range of k values and chose k = 61 based on the point where validation RMSE flattened out in the graph. This choice strikes a good balance between overfitting and generalization by pulling from a large enough pool of neighbors without introducing too much noise."
      ]
    },
    {
      "cell_type": "code",
      "execution_count": 72,
      "metadata": {
        "colab": {
          "base_uri": "https://localhost:8080/",
          "height": 1000
        },
        "id": "uJGkbuYw6mb4",
        "outputId": "fa21fcf3-2e89-4938-baf5-7263d2feaf96"
      },
      "outputs": [
        {
          "data": {
            "image/png": "[encoded data removed]",
            "text/plain": [
              "<Figure size 1000x500 with 1 Axes>"
            ]
          },
          "metadata": {},
          "output_type": "display_data"
        },
        {
          "data": {
            "image/png": "[encoded data removed]",
            "text/plain": [
              "<Figure size 1000x500 with 1 Axes>"
            ]
          },
          "metadata": {},
          "output_type": "display_data"
        },
        {
          "name": "stdout",
          "output_type": "stream",
          "text": [
            "\n",
            "Top 5 Configurations (by Val_RMSE):\n",
            "    k  Train_RMSE  Val_RMSE  Train_MAE   Val_MAE\n",
            "5  60    1.473814  1.593285   1.292120  1.440467\n",
            "4  50    1.471943  1.599441   1.289569  1.444493\n",
            "3  40    1.467834  1.601666   1.284622  1.445192\n",
            "2  30    1.461620  1.608999   1.277782  1.449222\n",
            "1  20    1.452879  1.609911   1.265041  1.443933\n"
          ]
        }
      ],
      "source": [
        "tfidf = TfidfVectorizer(stop_words=\"english\", max_features=10000)\n",
        "tfidf_train = tfidf.fit_transform(train_df[\"content_text\"])\n",
        "tfidf_val = tfidf.transform(val_df[\"content_text\"])\n",
        "\n",
        "app_index_train = pd.Series(train_df.index, index=train_df[\"app_name\"]).drop_duplicates()\n",
        "results = []\n",
        "ks = [10, 20, 30, 40, 50, 60]\n",
        "\n",
        "for k in ks:\n",
        "    nn_model = NearestNeighbors(metric=\"cosine\", algorithm=\"auto\", n_neighbors=k+1)\n",
        "    nn_model.fit(tfidf_train)\n",
        "\n",
        "    y_train_true, y_train_pred = [], []\n",
        "    for i, row in train_df.iterrows():\n",
        "        if row[\"app_name\"] not in app_index_train:\n",
        "            continue\n",
        "        idx = app_index_train[row[\"app_name\"]]\n",
        "        tfidf_vec = tfidf_train[idx]\n",
        "        distances, indices = nn_model.kneighbors(tfidf_vec, n_neighbors=k+1)\n",
        "        top_indices = indices.flatten()[1:]\n",
        "        neighbors = train_df.iloc[top_indices]\n",
        "        if not neighbors.empty:\n",
        "            y_train_true.append(row[\"rating\"])\n",
        "            y_train_pred.append(neighbors[\"rating\"].mean())\n",
        "\n",
        "    y_val_true, y_val_pred = [], []\n",
        "    for i, row in val_df.iterrows():\n",
        "        tfidf_vec = tfidf_val[i]\n",
        "        distances, indices = nn_model.kneighbors(tfidf_vec, n_neighbors=k)\n",
        "        neighbors = train_df.iloc[indices.flatten()]\n",
        "        if not neighbors.empty:\n",
        "            y_val_true.append(row[\"rating\"])\n",
        "            y_val_pred.append(neighbors[\"rating\"].mean())\n",
        "\n",
        "    train_rmse = np.sqrt(mean_squared_error(y_train_true, y_train_pred))\n",
        "    val_rmse   = np.sqrt(mean_squared_error(y_val_true, y_val_pred))\n",
        "    train_mae  = mean_absolute_error(y_train_true, y_train_pred)\n",
        "    val_mae    = mean_absolute_error(y_val_true, y_val_pred)\n",
        "\n",
        "    results.append({\n",
        "        \"k\": k,\n",
        "        \"Train_RMSE\": train_rmse,\n",
        "        \"Val_RMSE\": val_rmse,\n",
        "        \"Train_MAE\": train_mae,\n",
        "        \"Val_MAE\": val_mae\n",
        "    })\n",
        "\n",
        "df_results = pd.DataFrame(results)\n",
        "\n",
        "plt.figure(figsize=(10, 5))\n",
        "plt.plot(df_results[\"k\"], df_results[\"Train_RMSE\"], label=\"Train RMSE\", marker=\"o\")\n",
        "plt.plot(df_results[\"k\"], df_results[\"Val_RMSE\"], label=\"Val RMSE\", marker=\"s\")\n",
        "plt.xlabel(\"Number of Neighbors (k)\")\n",
        "plt.ylabel(\"RMSE\")\n",
        "plt.title(\"Content-Based KNN: Train vs Validation RMSE\")\n",
        "plt.legend()\n",
        "plt.grid(True)\n",
        "plt.show()\n",
        "\n",
        "plt.figure(figsize=(10, 5))\n",
        "plt.plot(df_results[\"k\"], df_results[\"Train_MAE\"], label=\"Train MAE\", marker=\"o\")\n",
        "plt.plot(df_results[\"k\"], df_results[\"Val_MAE\"], label=\"Val MAE\", marker=\"s\")\n",
        "plt.xlabel(\"Number of Neighbors (k)\")\n",
        "plt.ylabel(\"MAE\")\n",
        "plt.title(\"Content-Based KNN: Train vs Validation MAE\")\n",
        "plt.legend()\n",
        "plt.grid(True)\n",
        "plt.show()\n",
        "\n",
        "print(\"\\nTop 5 Configurations (by Val_RMSE):\")\n",
        "print(df_results.sort_values(\"Val_RMSE\").head(5))\n"
      ]
    },
    {
      "cell_type": "markdown",
      "metadata": {
        "id": "iaiq0StE5lWL"
      },
      "source": [
        "## Hybrid Model"
      ]
    },
    {
      "cell_type": "code",
      "execution_count": 73,
      "metadata": {
        "id": "5ZsgxUZhynlj"
      },
      "outputs": [],
      "source": [
        "tfidf_test = tfidf.transform(test_df[\"content_text\"])"
      ]
    },
    {
      "cell_type": "code",
      "execution_count": 74,
      "metadata": {
        "id": "8pOK_crsk6VD"
      },
      "outputs": [],
      "source": [
        "nn_model = NearestNeighbors(metric=\"cosine\", algorithm=\"auto\")\n",
        "nn_model.fit(tfidf_train)\n",
        "\n",
        "app_index_train = pd.Series(train_df.index, index=train_df[\"app_name\"]).drop_duplicates()\n",
        "def get_content_based_pred(app_name):\n",
        "    if app_name not in app_index_train:\n",
        "        return np.nan\n",
        "    idx = app_index_train[app_name]\n",
        "    tfidf_vec = tfidf_train[idx]\n",
        "    distances, indices = nn_model.kneighbors(tfidf_vec, n_neighbors=61)\n",
        "    neighbor_ratings = train_df.iloc[indices.flatten()[1:]][\"rating\"]\n",
        "    return neighbor_ratings.mean() if not neighbor_ratings.empty else np.nan\n",
        "\n",
        "def get_collab_pred(uid, app_package):\n",
        "    return best_model_tuned.predict(uid, app_package).est\n",
        "weights = np.arange(0.0, 1.1, 0.1)\n",
        "val_results = []\n",
        "\n",
        "for w in weights:\n",
        "    hybrid_preds = []\n",
        "    actual_ratings = []\n",
        "\n",
        "    for _, row in val_df.iterrows():\n",
        "        r_cb = get_content_based_pred(row[\"app_name\"])\n",
        "        r_cf = get_collab_pred(row[\"uid\"], row[\"app_package\"])\n",
        "\n",
        "        if np.isnan(r_cb):\n",
        "            hybrid = r_cf\n",
        "        else:\n",
        "            hybrid = w * r_cb + (1 - w) * r_cf\n",
        "\n",
        "        hybrid_preds.append(hybrid)\n",
        "        actual_ratings.append(row[\"rating\"])\n",
        "\n",
        "    rmse = np.sqrt(mean_squared_error(actual_ratings, hybrid_preds))\n",
        "    mae = mean_absolute_error(actual_ratings, hybrid_preds)\n",
        "    val_results.append({\"weight_cb\": w, \"Val_RMSE\": rmse, \"Val_MAE\": mae})\n",
        "\n",
        "df_hybrid_val = pd.DataFrame(val_results).sort_values(\"Val_RMSE\").reset_index(drop=True)\n",
        "best_weight = df_hybrid_val.iloc[0][\"weight_cb\"]\n",
        "\n",
        "# print(f\"\\nBest Weight (content-based): {best_weight:.2f}\")\n",
        "# print(df_hybrid_val.head())\n",
        "\n",
        "# # --- Step 2: Evaluate on test_df using best weight ---\n",
        "# test_preds = []\n",
        "# test_truth = []\n",
        "\n",
        "# for _, row in test_df.iterrows():\n",
        "#     r_cb = get_content_based_pred(row[\"app_name\"])\n",
        "#     r_cf = get_collab_pred(row[\"uid\"], row[\"app_package\"])\n",
        "\n",
        "#     if np.isnan(r_cb):\n",
        "#         hybrid = r_cf\n",
        "#     else:\n",
        "#         hybrid = best_weight * r_cb + (1 - best_weight) * r_cf\n",
        "\n",
        "#     test_preds.append(hybrid)\n",
        "#     test_truth.append(row[\"rating\"])\n",
        "\n",
        "# rmse_test = np.sqrt(mean_squared_error(test_truth, test_preds))\n",
        "# mae_test = mean_absolute_error(test_truth, test_preds)\n",
        "\n",
        "# print(f\"\\nHybrid Test RMSE: {rmse_test:.4f}\")\n",
        "# print(f\"Hybrid Test MAE:  {mae_test:.4f}\")\n"
      ]
    },
    {
      "cell_type": "markdown",
      "metadata": {
        "id": "xnhJ661W5rDU"
      },
      "source": [
        "## Save Model Dependencies"
      ]
    },
    {
      "cell_type": "code",
      "execution_count": 75,
      "metadata": {
        "colab": {
          "base_uri": "https://localhost:8080/"
        },
        "id": "NF8t92PfU-oP",
        "outputId": "6900bc10-7b88-4886-b493-9ef22850f4f5"
      },
      "outputs": [
        {
          "name": "stdout",
          "output_type": "stream",
          "text": [
            "Saving all models to: models\n"
          ]
        }
      ],
      "source": [
        "save_dir = \"models\"\n",
        "print(f\"Saving all models to: {save_dir}\")\n",
        "\n",
        "with open(f\"{save_dir}/best_model_tuned.pkl\", \"wb\") as f:\n",
        "    pickle.dump(best_model_tuned, f)\n",
        "\n",
        "with open(f\"{save_dir}/tfidf_vectorizer.pkl\", \"wb\") as f:\n",
        "    pickle.dump(tfidf, f)\n",
        "\n",
        "joblib.dump(tfidf_train, f\"{save_dir}/tfidf_train_matrix.pkl\")\n",
        "\n",
        "with open(f\"{save_dir}/nn_model.pkl\", \"wb\") as f:\n",
        "    pickle.dump(nn_model, f)\n",
        "\n",
        "with open(f\"{save_dir}/app_index_train.pkl\", \"wb\") as f:\n",
        "    pickle.dump(app_index_train, f)\n",
        "\n",
        "with open(f\"{save_dir}/best_weight.txt\", \"w\") as f:\n",
        "    f.write(str(best_weight))\n"
      ]
    },
    {
      "cell_type": "markdown",
      "metadata": {
        "id": "P2tY9kVO5znv"
      },
      "source": [
        "## Loading Them Back"
      ]
    },
    {
      "cell_type": "code",
      "execution_count": 76,
      "metadata": {
        "colab": {
          "base_uri": "https://localhost:8080/"
        },
        "id": "XKa-Q2SVvDvl",
        "outputId": "9b22f699-c292-4c06-ec46-96fa0fe20f04"
      },
      "outputs": [
        {
          "name": "stdout",
          "output_type": "stream",
          "text": [
            "Loading all models from: models\n"
          ]
        }
      ],
      "source": [
        "load_dir = \"models\"\n",
        "print(f\"Loading all models from: {load_dir}\")\n",
        "\n",
        "with open(f\"{load_dir}/best_model_tuned.pkl\", \"rb\") as f:\n",
        "    best_model_tuned = pickle.load(f)\n",
        "\n",
        "with open(f\"{load_dir}/tfidf_vectorizer.pkl\", \"rb\") as f:\n",
        "    tfidf = pickle.load(f)\n",
        "\n",
        "tfidf_train = joblib.load(f\"{load_dir}/tfidf_train_matrix.pkl\")\n",
        "\n",
        "with open(f\"{load_dir}/nn_model.pkl\", \"rb\") as f:\n",
        "    nn_model = pickle.load(f)\n",
        "\n",
        "with open(f\"{load_dir}/app_index_train.pkl\", \"rb\") as f:\n",
        "    app_index_train = pickle.load(f)\n",
        "\n",
        "with open(f\"{load_dir}/best_weight.txt\", \"r\") as f:\n",
        "    best_weight = float(f.read())\n",
        "\n",
        "\n"
      ]
    },
    {
      "cell_type": "code",
      "execution_count": 77,
      "metadata": {
        "colab": {
          "base_uri": "https://localhost:8080/"
        },
        "id": "aJLnMP6lqAYQ",
        "outputId": "8d12c3d2-f9ad-43db-dd17-61aeebc9fa30"
      },
      "outputs": [
        {
          "data": {
            "text/plain": [
              "0.2"
            ]
          },
          "execution_count": 77,
          "metadata": {},
          "output_type": "execute_result"
        }
      ],
      "source": [
        "best_weight"
      ]
    },
    {
      "cell_type": "code",
      "execution_count": 78,
      "metadata": {
        "id": "HFdpvd6duooG"
      },
      "outputs": [],
      "source": [
        "def get_content_based_pred(app_name):\n",
        "    if app_name not in app_index_train:\n",
        "        return np.nan\n",
        "    idx = app_index_train[app_name]\n",
        "    tfidf_vec = tfidf_train[idx]\n",
        "    distances, indices = nn_model.kneighbors(tfidf_vec, n_neighbors=61)\n",
        "    neighbor_ratings = train_df.iloc[indices.flatten()[1:]][\"rating\"]\n",
        "    return neighbor_ratings.mean() if not neighbor_ratings.empty else np.nan\n",
        "\n",
        "def get_collab_pred(uid, app_package):\n",
        "    return best_model_tuned.predict(uid, app_package).est"
      ]
    },
    {
      "cell_type": "code",
      "execution_count": 79,
      "metadata": {
        "colab": {
          "base_uri": "https://localhost:8080/"
        },
        "id": "VVu8mb1M0R5l",
        "outputId": "ee8cf2a9-e099-4b22-d1a3-7821d48488f2"
      },
      "outputs": [
        {
          "name": "stdout",
          "output_type": "stream",
          "text": [
            "\n",
            "Hybrid Test RMSE: 1.6508\n",
            "Hybrid Test MAE:  1.5188\n"
          ]
        }
      ],
      "source": [
        "test_preds = []\n",
        "test_truth = []\n",
        "\n",
        "for _, row in test_df.iterrows():\n",
        "    r_cb = get_content_based_pred(row[\"app_name\"])\n",
        "    r_cf = get_collab_pred(row[\"uid\"], row[\"app_package\"])\n",
        "\n",
        "    if np.isnan(r_cb):\n",
        "        hybrid = r_cf\n",
        "    else:\n",
        "        hybrid = best_weight * r_cb + (1 - best_weight) * r_cf\n",
        "\n",
        "    test_preds.append(hybrid)\n",
        "    test_truth.append(row[\"rating\"])\n",
        "\n",
        "rmse_test = np.sqrt(mean_squared_error(test_truth, test_preds))\n",
        "mae_test = mean_absolute_error(test_truth, test_preds)\n",
        "\n",
        "print(f\"\\nHybrid Test RMSE: {rmse_test:.4f}\")\n",
        "print(f\"Hybrid Test MAE:  {mae_test:.4f}\")"
      ]
    },
    {
      "cell_type": "code",
      "execution_count": 80,
      "metadata": {
        "colab": {
          "base_uri": "https://localhost:8080/"
        },
        "id": "I5LON63M277W",
        "outputId": "6f427bab-4f37-4429-b16b-250e19d06594"
      },
      "outputs": [
        {
          "name": "stdout",
          "output_type": "stream",
          "text": [
            "Min prediction: 2.86\n",
            "Max prediction: 3.55\n"
          ]
        }
      ],
      "source": [
        "print(f\"Min prediction: {min(test_preds):.2f}\")\n",
        "print(f\"Max prediction: {max(test_preds):.2f}\")"
      ]
    },
    {
      "cell_type": "markdown",
      "metadata": {
        "id": "NwHqVUGBstyh"
      },
      "source": [
        "I combined the predictions from my best collaborative filtering and content-based models using a weighted average, where the content-based weight (0.2) was selected based on validation performance. Since both components had already been tuned using the train and val sets, and the hybrid weight was also chosen based on validation results, I didn’t need to re-evaluate everything separately on the test set. Instead, I focused on assessing the final hybrid model as a whole. It achieved a test RMSE of 1.6508 and MAE of 1.5188. The predicted ratings stayed within a tight range—from 2.86 to 3.55—which suggests the model tends to play it safe rather than making bold guesses. That kind of behavior makes sense given the sparse and noisy nature of user feedback in the dataset, and it likely helped keep the RMSE relatively low."
      ]
    },
    {
      "cell_type": "code",
      "execution_count": 81,
      "metadata": {
        "colab": {
          "base_uri": "https://localhost:8080/",
          "height": 472
        },
        "id": "9TlriPWe3og6",
        "outputId": "1dab1683-18a8-45da-a21d-0d9e2acbd316"
      },
      "outputs": [
        {
          "data": {
            "image/png": "[encoded data removed]",
            "text/plain": [
              "<Figure size 640x480 with 1 Axes>"
            ]
          },
          "metadata": {},
          "output_type": "display_data"
        }
      ],
      "source": [
        "plt.hist(test_preds, bins=20, edgecolor='k')\n",
        "plt.title(\"Distribution of Hybrid Predictions\")\n",
        "plt.xlabel(\"Predicted Rating\")\n",
        "plt.ylabel(\"Frequency\")\n",
        "plt.grid(True)\n",
        "plt.show()"
      ]
    },
    {
      "cell_type": "markdown",
      "metadata": {
        "id": "zKFIvX6IuGjE"
      },
      "source": [
        "## Prediction Error vs. User Data Availability\n",
        "Users with fewer training interactions generally have more scattered and higher prediction errors, which makes sense given how little the model has to learn from in those cases."
      ]
    },
    {
      "cell_type": "code",
      "execution_count": 82,
      "metadata": {
        "colab": {
          "base_uri": "https://localhost:8080/",
          "height": 472
        },
        "id": "S2P8fT7-3zAV",
        "outputId": "a83e5f3d-3c16-4bc9-a2b3-ca96575236c0"
      },
      "outputs": [
        {
          "data": {
            "image/png": "[encoded data removed]",
            "text/plain": [
              "<Figure size 640x480 with 1 Axes>"
            ]
          },
          "metadata": {},
          "output_type": "display_data"
        }
      ],
      "source": [
        "user_train_counts = train_df[\"uid\"].value_counts()\n",
        "test_df[\"train_interactions\"] = test_df[\"uid\"].map(user_train_counts)\n",
        "\n",
        "test_df[\"abs_error\"] = np.abs(np.array(test_df[\"rating\"]) - np.array(test_preds))\n",
        "\n",
        "plt.scatter(test_df[\"train_interactions\"], test_df[\"abs_error\"], alpha=0.3)\n",
        "plt.xlabel(\"Number of Training Interactions (per User)\")\n",
        "plt.ylabel(\"Absolute Prediction Error\")\n",
        "plt.title(\"Prediction Error vs. User Data Availability\")\n",
        "plt.grid(True)\n",
        "plt.show()\n",
        "\n"
      ]
    },
    {
      "cell_type": "markdown",
      "metadata": {
        "id": "I5t5fMj4ucoT"
      },
      "source": [
        "## Distribution of Prediction Errors\n",
        "Most errors are centered around ±2, which means the model often predicts closer to the middle of the scale even when the actual rating is at one of the extremes. This highlights a tendency to avoid confident predictions."
      ]
    },
    {
      "cell_type": "code",
      "execution_count": 85,
      "metadata": {
        "colab": {
          "base_uri": "https://localhost:8080/",
          "height": 487
        },
        "id": "9BqkvOQFWUgl",
        "outputId": "d937a00c-6131-484b-f9c0-b9995e708cb1"
      },
      "outputs": [
        {
          "data": {
            "image/png": "[encoded data removed]",
            "text/plain": [
              "<Figure size 800x500 with 1 Axes>"
            ]
          },
          "metadata": {},
          "output_type": "display_data"
        }
      ],
      "source": [
        "errors = np.array(test_preds) - np.array(test_truth)\n",
        "\n",
        "plt.figure(figsize=(8, 5))\n",
        "plt.hist(errors, bins=30, color=\"steelblue\", edgecolor=\"black\")\n",
        "plt.title(\"Distribution of Prediction Errors\")\n",
        "plt.xlabel(\"Prediction Error (Predicted - Actual)\")\n",
        "plt.ylabel(\"Frequency\")\n",
        "plt.grid(True)\n",
        "plt.show()"
      ]
    },
    {
      "cell_type": "markdown",
      "metadata": {
        "id": "_xtUFDWVva6Y"
      },
      "source": [
        "## Prediction Error by Actual Rating\n",
        "The model tends to overestimate low ratings and underestimate high ones, which shows it’s playing it safe and pulling predictions toward the middle."
      ]
    },
    {
      "cell_type": "code",
      "execution_count": 86,
      "metadata": {
        "colab": {
          "base_uri": "https://localhost:8080/",
          "height": 507
        },
        "id": "-tTcHnU6aCO6",
        "outputId": "5349d89d-bc7b-4c4f-9c53-8f90d4f3f295"
      },
      "outputs": [
        {
          "data": {
            "image/png": "[encoded data removed]",
            "text/plain": [
              "<Figure size 800x500 with 1 Axes>"
            ]
          },
          "metadata": {},
          "output_type": "display_data"
        }
      ],
      "source": [
        "result_df_3 = pd.DataFrame({\n",
        "    \"actual\": test_truth,\n",
        "    \"predicted\": test_preds\n",
        "})\n",
        "result_df_3[\"error\"] = result_df_3[\"predicted\"] - result_df_3[\"actual\"]\n",
        "\n",
        "# Plot\n",
        "plt.figure(figsize=(8, 5))\n",
        "sns.boxplot(x=\"actual\", y=\"error\", data=result_df_3, color=\"mediumpurple\")\n",
        "plt.title(\"Prediction Error by Actual Rating\")\n",
        "plt.xlabel(\"Actual Rating\")\n",
        "plt.ylabel(\"Prediction Error\")\n",
        "plt.grid(axis=\"y\", linestyle=\"--\", alpha=0.5)\n",
        "plt.axhline(0, color=\"black\", linestyle=\"--\", linewidth=1)  # reference line\n",
        "plt.tight_layout()\n",
        "plt.show()"
      ]
    },
    {
      "cell_type": "code",
      "execution_count": 87,
      "metadata": {
        "id": "ZO0KHuHoWlln"
      },
      "outputs": [],
      "source": [
        "def recommend_apps_for_user(uid, n=3):\n",
        "    # Step 1: Show user history\n",
        "    user_history = df_merged[df_merged[\"uid\"] == uid].sort_values(\"date\")\n",
        "    print(f\"User {uid} Rating History ({len(user_history)} apps):\")\n",
        "    display(user_history[[\"app_name\", \"rating\", \"app_category\", \"date\"]])\n",
        "\n",
        "    # Step 2: Build recommendation list\n",
        "    all_apps = train_df[\"app_package\"].unique()\n",
        "    recs = []\n",
        "\n",
        "    for app in all_apps:\n",
        "        app_row = train_df[train_df[\"app_package\"] == app].iloc[0]\n",
        "        app_name = app_row[\"app_name\"]\n",
        "        r_cb = get_content_based_pred(app_name)\n",
        "        r_cf = get_collab_pred(uid, app)\n",
        "\n",
        "        if np.isnan(r_cb):\n",
        "            pred = r_cf\n",
        "        else:\n",
        "            pred = best_weight * r_cb + (1 - best_weight) * r_cf\n",
        "\n",
        "        recs.append({\n",
        "            \"app_package\": app,\n",
        "            \"app_name\": app_name,\n",
        "            \"predicted_rating\": pred,\n",
        "            \"r_cb\": r_cb,\n",
        "            \"r_cf\": r_cf,\n",
        "            \"app_category\": app_row[\"app_category\"],\n",
        "            \"developer\": app_row[\"developer_name\"]\n",
        "        })\n",
        "\n",
        "    recs_df = pd.DataFrame(recs)\n",
        "\n",
        "    # Optional: Remove already rated apps\n",
        "    rated_apps = set(user_history[\"app_package\"])\n",
        "    recs_df = recs_df[~recs_df[\"app_package\"].isin(rated_apps)]\n",
        "\n",
        "    # Step 3: Display top-N recommendations\n",
        "    top_recs = recs_df.sort_values(\"predicted_rating\", ascending=False).head(n).reset_index(drop=True)\n",
        "    print(f\"\\nTop {n} Recommendations for User {uid}:\")\n",
        "    return top_recs"
      ]
    },
    {
      "cell_type": "code",
      "execution_count": 88,
      "metadata": {
        "colab": {
          "base_uri": "https://localhost:8080/",
          "height": 573
        },
        "id": "It7Xg4fTAPJf",
        "outputId": "5ec83466-4e42-4ad8-a652-e6198a06ebbf"
      },
      "outputs": [
        {
          "name": "stdout",
          "output_type": "stream",
          "text": [
            "User aMIIlFT1h0bPfUMr Rating History (11 apps):\n"
          ]
        },
        {
          "data": {
            "text/html": [
              "<div>\n",
              "<style scoped>\n",
              "    .dataframe tbody tr th:only-of-type {\n",
              "        vertical-align: middle;\n",
              "    }\n",
              "\n",
              "    .dataframe tbody tr th {\n",
              "        vertical-align: top;\n",
              "    }\n",
              "\n",
              "    .dataframe thead th {\n",
              "        text-align: right;\n",
              "    }\n",
              "</style>\n",
              "<table border=\"1\" class=\"dataframe\">\n",
              "  <thead>\n",
              "    <tr style=\"text-align: right;\">\n",
              "      <th></th>\n",
              "      <th>app_name</th>\n",
              "      <th>rating</th>\n",
              "      <th>app_category</th>\n",
              "      <th>date</th>\n",
              "    </tr>\n",
              "  </thead>\n",
              "  <tbody>\n",
              "    <tr>\n",
              "      <th>11210</th>\n",
              "      <td>Age of Ishtaria - A.Battle RPG</td>\n",
              "      <td>5</td>\n",
              "      <td>Card</td>\n",
              "      <td>2019-04-26</td>\n",
              "    </tr>\n",
              "    <tr>\n",
              "      <th>11211</th>\n",
              "      <td>Overdrive - Ninja Shadow Revenge</td>\n",
              "      <td>3</td>\n",
              "      <td>Action</td>\n",
              "      <td>2020-08-06</td>\n",
              "    </tr>\n",
              "    <tr>\n",
              "      <th>11212</th>\n",
              "      <td>Boom Slingers</td>\n",
              "      <td>1</td>\n",
              "      <td>Action</td>\n",
              "      <td>2021-04-02</td>\n",
              "    </tr>\n",
              "    <tr>\n",
              "      <th>11213</th>\n",
              "      <td>Magic Jigsaw Puzzles - Game HD</td>\n",
              "      <td>3</td>\n",
              "      <td>Puzzle</td>\n",
              "      <td>2021-04-25</td>\n",
              "    </tr>\n",
              "    <tr>\n",
              "      <th>11214</th>\n",
              "      <td>DICE: Events &amp; Streams</td>\n",
              "      <td>1</td>\n",
              "      <td>Music &amp; Audio</td>\n",
              "      <td>2021-07-22</td>\n",
              "    </tr>\n",
              "    <tr>\n",
              "      <th>11215</th>\n",
              "      <td>Baby Games for 1+ Toddlers</td>\n",
              "      <td>4</td>\n",
              "      <td>Educational</td>\n",
              "      <td>2021-12-28</td>\n",
              "    </tr>\n",
              "    <tr>\n",
              "      <th>11216</th>\n",
              "      <td>Superb Casino - HD Slots Games</td>\n",
              "      <td>5</td>\n",
              "      <td>Casino</td>\n",
              "      <td>2022-01-13</td>\n",
              "    </tr>\n",
              "    <tr>\n",
              "      <th>11217</th>\n",
              "      <td>Empires &amp; Puzzles: Match-3 RPG</td>\n",
              "      <td>1</td>\n",
              "      <td>Puzzle</td>\n",
              "      <td>2022-02-17</td>\n",
              "    </tr>\n",
              "    <tr>\n",
              "      <th>11218</th>\n",
              "      <td>Rock N' Cash Vegas Slot Casino</td>\n",
              "      <td>4</td>\n",
              "      <td>Casino</td>\n",
              "      <td>2022-02-25</td>\n",
              "    </tr>\n",
              "    <tr>\n",
              "      <th>11219</th>\n",
              "      <td>PixelLab - Text on pictures</td>\n",
              "      <td>5</td>\n",
              "      <td>Photography</td>\n",
              "      <td>2022-03-14</td>\n",
              "    </tr>\n",
              "    <tr>\n",
              "      <th>11220</th>\n",
              "      <td>Video Editor &amp; Maker - InShot</td>\n",
              "      <td>3</td>\n",
              "      <td>Photography</td>\n",
              "      <td>2022-03-24</td>\n",
              "    </tr>\n",
              "  </tbody>\n",
              "</table>\n",
              "</div>"
            ],
            "text/plain": [
              "                               app_name  rating   app_category       date\n",
              "11210    Age of Ishtaria - A.Battle RPG       5           Card 2019-04-26\n",
              "11211  Overdrive - Ninja Shadow Revenge       3         Action 2020-08-06\n",
              "11212                     Boom Slingers       1         Action 2021-04-02\n",
              "11213    Magic Jigsaw Puzzles - Game HD       3         Puzzle 2021-04-25\n",
              "11214            DICE: Events & Streams       1  Music & Audio 2021-07-22\n",
              "11215        Baby Games for 1+ Toddlers       4    Educational 2021-12-28\n",
              "11216    Superb Casino - HD Slots Games       5         Casino 2022-01-13\n",
              "11217    Empires & Puzzles: Match-3 RPG       1         Puzzle 2022-02-17\n",
              "11218    Rock N' Cash Vegas Slot Casino       4         Casino 2022-02-25\n",
              "11219       PixelLab - Text on pictures       5    Photography 2022-03-14\n",
              "11220     Video Editor & Maker - InShot       3    Photography 2022-03-24"
            ]
          },
          "metadata": {},
          "output_type": "display_data"
        },
        {
          "name": "stdout",
          "output_type": "stream",
          "text": [
            "\n",
            "Top 5 Recommendations for User aMIIlFT1h0bPfUMr:\n"
          ]
        },
        {
          "data": {
            "text/html": [
              "<div>\n",
              "<style scoped>\n",
              "    .dataframe tbody tr th:only-of-type {\n",
              "        vertical-align: middle;\n",
              "    }\n",
              "\n",
              "    .dataframe tbody tr th {\n",
              "        vertical-align: top;\n",
              "    }\n",
              "\n",
              "    .dataframe thead th {\n",
              "        text-align: right;\n",
              "    }\n",
              "</style>\n",
              "<table border=\"1\" class=\"dataframe\">\n",
              "  <thead>\n",
              "    <tr style=\"text-align: right;\">\n",
              "      <th></th>\n",
              "      <th>app_package</th>\n",
              "      <th>app_name</th>\n",
              "      <th>predicted_rating</th>\n",
              "      <th>r_cb</th>\n",
              "      <th>r_cf</th>\n",
              "      <th>app_category</th>\n",
              "      <th>developer</th>\n",
              "    </tr>\n",
              "  </thead>\n",
              "  <tbody>\n",
              "    <tr>\n",
              "      <th>0</th>\n",
              "      <td>com.mg.smplan</td>\n",
              "      <td>To Do List with Reminder</td>\n",
              "      <td>3.533174</td>\n",
              "      <td>3.617284</td>\n",
              "      <td>3.512146</td>\n",
              "      <td>Productivity</td>\n",
              "      <td>tact</td>\n",
              "    </tr>\n",
              "    <tr>\n",
              "      <th>1</th>\n",
              "      <td>com.addictive.strategy.tower</td>\n",
              "      <td>Tower Clash</td>\n",
              "      <td>3.522928</td>\n",
              "      <td>3.815789</td>\n",
              "      <td>3.449713</td>\n",
              "      <td>Strategy</td>\n",
              "      <td>Fastone Games HK</td>\n",
              "    </tr>\n",
              "    <tr>\n",
              "      <th>2</th>\n",
              "      <td>com.TibetanLiss.pd3</td>\n",
              "      <td>Protect &amp; Defense: Tower Zone</td>\n",
              "      <td>3.505007</td>\n",
              "      <td>3.835391</td>\n",
              "      <td>3.422411</td>\n",
              "      <td>Strategy</td>\n",
              "      <td>Tibetan Liss</td>\n",
              "    </tr>\n",
              "    <tr>\n",
              "      <th>3</th>\n",
              "      <td>com.hound13.hundredsoulglobal</td>\n",
              "      <td>Hundred Soul : The Last Savior</td>\n",
              "      <td>3.501912</td>\n",
              "      <td>3.556650</td>\n",
              "      <td>3.488227</td>\n",
              "      <td>Action</td>\n",
              "      <td>HOUND 13</td>\n",
              "    </tr>\n",
              "    <tr>\n",
              "      <th>4</th>\n",
              "      <td>com.fivebn.tl2.f2p</td>\n",
              "      <td>The Legacy 2</td>\n",
              "      <td>3.476710</td>\n",
              "      <td>3.945055</td>\n",
              "      <td>3.359623</td>\n",
              "      <td>Adventure</td>\n",
              "      <td>FIVE-BN GAMES</td>\n",
              "    </tr>\n",
              "  </tbody>\n",
              "</table>\n",
              "</div>"
            ],
            "text/plain": [
              "                     app_package                        app_name  \\\n",
              "0                  com.mg.smplan        To Do List with Reminder   \n",
              "1   com.addictive.strategy.tower                     Tower Clash   \n",
              "2            com.TibetanLiss.pd3   Protect & Defense: Tower Zone   \n",
              "3  com.hound13.hundredsoulglobal  Hundred Soul : The Last Savior   \n",
              "4             com.fivebn.tl2.f2p                    The Legacy 2   \n",
              "\n",
              "   predicted_rating      r_cb      r_cf  app_category         developer  \n",
              "0          3.533174  3.617284  3.512146  Productivity              tact  \n",
              "1          3.522928  3.815789  3.449713      Strategy  Fastone Games HK  \n",
              "2          3.505007  3.835391  3.422411      Strategy      Tibetan Liss  \n",
              "3          3.501912  3.556650  3.488227        Action          HOUND 13  \n",
              "4          3.476710  3.945055  3.359623     Adventure     FIVE-BN GAMES  "
            ]
          },
          "execution_count": 88,
          "metadata": {},
          "output_type": "execute_result"
        }
      ],
      "source": [
        "# Get predictions into test_df\n",
        "test_df[\"predicted_rating\"] = test_preds\n",
        "test_df[\"abs_error\"] = np.abs(test_df[\"rating\"] - test_df[\"predicted_rating\"])\n",
        "\n",
        "# Sort test_df by lowest absolute error (i.e., model got it right)\n",
        "top_matches = test_df.sort_values(\"abs_error\").head(20)\n",
        "\n",
        "# Pick the first user\n",
        "example_uid = top_matches[\"uid\"].iloc[0]\n",
        "\n",
        "# View that user’s history and recommendations\n",
        "recommend_apps_for_user(example_uid, n=5)\n"
      ]
    },
    {
      "cell_type": "markdown",
      "metadata": {
        "id": "rpSSnBR8zrkD"
      },
      "source": [
        "## Future Improvements\n",
        "While the model performs well, there are several ways I could extend and improve this work:\n",
        "\n",
        "- **Data**: I could scale up to a larger sample size to validate model performance across broader user populations, having started with a smaller subset for faster prototyping already.\n",
        "- **Features**: I could introduce additional app-level features, such as install counts, update frequency, and review sentiment scores, to enrich app profiles beyond the existing metadata.\n",
        "- **Model**: I could explore neural network-based recommenders to better capture nonlinear patterns and personalize recommendations more effectively.\n",
        "- **Evaluation**: I could address the conservatively predicted rating range, currently between 2.69 and 3.52, by tuning loss functions and improving model calibration.\n",
        "\n",
        "With these improvements, the system could become more robust and effective at scale."
      ]
    }
  ],
  "metadata": {
    "colab": {
      "provenance": []
    },
    "kernelspec": {
      "display_name": "Python (base)",
      "language": "python",
      "name": "base"
    },
    "language_info": {
      "codemirror_mode": {
        "name": "ipython",
        "version": 3
      },
      "file_extension": ".py",
      "mimetype": "text/x-python",
      "name": "python",
      "nbconvert_exporter": "python",
      "pygments_lexer": "ipython3",
      "version": "3.12.4"
    },
    "widgets": {
      "application/vnd.jupyter.widget-state+json": {
        "11a825510a714d258738c61dfb118e10": {
          "model_module": "@jupyter-widgets/controls",
          "model_module_version": "1.5.0",
          "model_name": "HTMLModel",
          "state": {
            "_dom_classes": [],
            "_model_module": "@jupyter-widgets/controls",
            "_model_module_version": "1.5.0",
            "_model_name": "HTMLModel",
            "_view_count": null,
            "_view_module": "@jupyter-widgets/controls",
            "_view_module_version": "1.5.0",
            "_view_name": "HTMLView",
            "description": "",
            "description_tooltip": null,
            "layout": "IPY_MODEL_3cb614949367459a942e6931daa9d1a9",
            "placeholder": "​",
            "style": "IPY_MODEL_8da7437c9db046c397895f499f5bd5e8",
            "value": " 21.8M/21.8M [00:00&lt;00:00, 72.8MB/s]"
          }
        },
        "153d637fe14b4a37ab2cfd4b6e080027": {
          "model_module": "@jupyter-widgets/base",
          "model_module_version": "1.2.0",
          "model_name": "LayoutModel",
          "state": {
            "_model_module": "@jupyter-widgets/base",
            "_model_module_version": "1.2.0",
            "_model_name": "LayoutModel",
            "_view_count": null,
            "_view_module": "@jupyter-widgets/base",
            "_view_module_version": "1.2.0",
            "_view_name": "LayoutView",
            "align_content": null,
            "align_items": null,
            "align_self": null,
            "border": null,
            "bottom": null,
            "display": null,
            "flex": null,
            "flex_flow": null,
            "grid_area": null,
            "grid_auto_columns": null,
            "grid_auto_flow": null,
            "grid_auto_rows": null,
            "grid_column": null,
            "grid_gap": null,
            "grid_row": null,
            "grid_template_areas": null,
            "grid_template_columns": null,
            "grid_template_rows": null,
            "height": null,
            "justify_content": null,
            "justify_items": null,
            "left": null,
            "margin": null,
            "max_height": null,
            "max_width": null,
            "min_height": null,
            "min_width": null,
            "object_fit": null,
            "object_position": null,
            "order": null,
            "overflow": null,
            "overflow_x": null,
            "overflow_y": null,
            "padding": null,
            "right": null,
            "top": null,
            "visibility": null,
            "width": "20px"
          }
        },
        "1747d027deae48d89b4f62f3690d2f88": {
          "model_module": "@jupyter-widgets/base",
          "model_module_version": "1.2.0",
          "model_name": "LayoutModel",
          "state": {
            "_model_module": "@jupyter-widgets/base",
            "_model_module_version": "1.2.0",
            "_model_name": "LayoutModel",
            "_view_count": null,
            "_view_module": "@jupyter-widgets/base",
            "_view_module_version": "1.2.0",
            "_view_name": "LayoutView",
            "align_content": null,
            "align_items": null,
            "align_self": null,
            "border": null,
            "bottom": null,
            "display": null,
            "flex": null,
            "flex_flow": null,
            "grid_area": null,
            "grid_auto_columns": null,
            "grid_auto_flow": null,
            "grid_auto_rows": null,
            "grid_column": null,
            "grid_gap": null,
            "grid_row": null,
            "grid_template_areas": null,
            "grid_template_columns": null,
            "grid_template_rows": null,
            "height": null,
            "justify_content": null,
            "justify_items": null,
            "left": null,
            "margin": null,
            "max_height": null,
            "max_width": null,
            "min_height": null,
            "min_width": null,
            "object_fit": null,
            "object_position": null,
            "order": null,
            "overflow": null,
            "overflow_x": null,
            "overflow_y": null,
            "padding": null,
            "right": null,
            "top": null,
            "visibility": null,
            "width": null
          }
        },
        "1d50a36938e84a4395827927b9d4eb4b": {
          "model_module": "@jupyter-widgets/controls",
          "model_module_version": "1.5.0",
          "model_name": "DescriptionStyleModel",
          "state": {
            "_model_module": "@jupyter-widgets/controls",
            "_model_module_version": "1.5.0",
            "_model_name": "DescriptionStyleModel",
            "_view_count": null,
            "_view_module": "@jupyter-widgets/base",
            "_view_module_version": "1.2.0",
            "_view_name": "StyleView",
            "description_width": ""
          }
        },
        "269891610b3e4f7593259dbd8fcbe4aa": {
          "model_module": "@jupyter-widgets/controls",
          "model_module_version": "1.5.0",
          "model_name": "HBoxModel",
          "state": {
            "_dom_classes": [],
            "_model_module": "@jupyter-widgets/controls",
            "_model_module_version": "1.5.0",
            "_model_name": "HBoxModel",
            "_view_count": null,
            "_view_module": "@jupyter-widgets/controls",
            "_view_module_version": "1.5.0",
            "_view_name": "HBoxView",
            "box_style": "",
            "children": [
              "IPY_MODEL_72c2c8b77b69406383b8302cd62be228",
              "IPY_MODEL_999a7d9bcba24d46a25d02057687f39a",
              "IPY_MODEL_4824c39e997d498989eaa74288328eb2"
            ],
            "layout": "IPY_MODEL_60713fc413f149a492a0931c7d82944d"
          }
        },
        "2878c8883ee844eba0f4b8b536ff9fbd": {
          "model_module": "@jupyter-widgets/base",
          "model_module_version": "1.2.0",
          "model_name": "LayoutModel",
          "state": {
            "_model_module": "@jupyter-widgets/base",
            "_model_module_version": "1.2.0",
            "_model_name": "LayoutModel",
            "_view_count": null,
            "_view_module": "@jupyter-widgets/base",
            "_view_module_version": "1.2.0",
            "_view_name": "LayoutView",
            "align_content": null,
            "align_items": null,
            "align_self": null,
            "border": null,
            "bottom": null,
            "display": null,
            "flex": null,
            "flex_flow": null,
            "grid_area": null,
            "grid_auto_columns": null,
            "grid_auto_flow": null,
            "grid_auto_rows": null,
            "grid_column": null,
            "grid_gap": null,
            "grid_row": null,
            "grid_template_areas": null,
            "grid_template_columns": null,
            "grid_template_rows": null,
            "height": null,
            "justify_content": null,
            "justify_items": null,
            "left": null,
            "margin": null,
            "max_height": null,
            "max_width": null,
            "min_height": null,
            "min_width": null,
            "object_fit": null,
            "object_position": null,
            "order": null,
            "overflow": null,
            "overflow_x": null,
            "overflow_y": null,
            "padding": null,
            "right": null,
            "top": null,
            "visibility": null,
            "width": null
          }
        },
        "3cb614949367459a942e6931daa9d1a9": {
          "model_module": "@jupyter-widgets/base",
          "model_module_version": "1.2.0",
          "model_name": "LayoutModel",
          "state": {
            "_model_module": "@jupyter-widgets/base",
            "_model_module_version": "1.2.0",
            "_model_name": "LayoutModel",
            "_view_count": null,
            "_view_module": "@jupyter-widgets/base",
            "_view_module_version": "1.2.0",
            "_view_name": "LayoutView",
            "align_content": null,
            "align_items": null,
            "align_self": null,
            "border": null,
            "bottom": null,
            "display": null,
            "flex": null,
            "flex_flow": null,
            "grid_area": null,
            "grid_auto_columns": null,
            "grid_auto_flow": null,
            "grid_auto_rows": null,
            "grid_column": null,
            "grid_gap": null,
            "grid_row": null,
            "grid_template_areas": null,
            "grid_template_columns": null,
            "grid_template_rows": null,
            "height": null,
            "justify_content": null,
            "justify_items": null,
            "left": null,
            "margin": null,
            "max_height": null,
            "max_width": null,
            "min_height": null,
            "min_width": null,
            "object_fit": null,
            "object_position": null,
            "order": null,
            "overflow": null,
            "overflow_x": null,
            "overflow_y": null,
            "padding": null,
            "right": null,
            "top": null,
            "visibility": null,
            "width": null
          }
        },
        "4270bb9ece304a7eb378510da543854c": {
          "model_module": "@jupyter-widgets/controls",
          "model_module_version": "1.5.0",
          "model_name": "HTMLModel",
          "state": {
            "_dom_classes": [],
            "_model_module": "@jupyter-widgets/controls",
            "_model_module_version": "1.5.0",
            "_model_name": "HTMLModel",
            "_view_count": null,
            "_view_module": "@jupyter-widgets/controls",
            "_view_module_version": "1.5.0",
            "_view_name": "HTMLView",
            "description": "",
            "description_tooltip": null,
            "layout": "IPY_MODEL_e59291cdec7a4b679694aac0391c8f79",
            "placeholder": "​",
            "style": "IPY_MODEL_1d50a36938e84a4395827927b9d4eb4b",
            "value": "app_meta.csv: 100%"
          }
        },
        "4824c39e997d498989eaa74288328eb2": {
          "model_module": "@jupyter-widgets/controls",
          "model_module_version": "1.5.0",
          "model_name": "HTMLModel",
          "state": {
            "_dom_classes": [],
            "_model_module": "@jupyter-widgets/controls",
            "_model_module_version": "1.5.0",
            "_model_name": "HTMLModel",
            "_view_count": null,
            "_view_module": "@jupyter-widgets/controls",
            "_view_module_version": "1.5.0",
            "_view_name": "HTMLView",
            "description": "",
            "description_tooltip": null,
            "layout": "IPY_MODEL_2878c8883ee844eba0f4b8b536ff9fbd",
            "placeholder": "​",
            "style": "IPY_MODEL_ce9fa2a359134cc0a76ce38b5031eec3",
            "value": " 10173/0 [00:00&lt;00:00, 19702.46 examples/s]"
          }
        },
        "5a8ebd92280647bfa9e0ecfdc684867d": {
          "model_module": "@jupyter-widgets/controls",
          "model_module_version": "1.5.0",
          "model_name": "ProgressStyleModel",
          "state": {
            "_model_module": "@jupyter-widgets/controls",
            "_model_module_version": "1.5.0",
            "_model_name": "ProgressStyleModel",
            "_view_count": null,
            "_view_module": "@jupyter-widgets/base",
            "_view_module_version": "1.2.0",
            "_view_name": "StyleView",
            "bar_color": null,
            "description_width": ""
          }
        },
        "60713fc413f149a492a0931c7d82944d": {
          "model_module": "@jupyter-widgets/base",
          "model_module_version": "1.2.0",
          "model_name": "LayoutModel",
          "state": {
            "_model_module": "@jupyter-widgets/base",
            "_model_module_version": "1.2.0",
            "_model_name": "LayoutModel",
            "_view_count": null,
            "_view_module": "@jupyter-widgets/base",
            "_view_module_version": "1.2.0",
            "_view_name": "LayoutView",
            "align_content": null,
            "align_items": null,
            "align_self": null,
            "border": null,
            "bottom": null,
            "display": null,
            "flex": null,
            "flex_flow": null,
            "grid_area": null,
            "grid_auto_columns": null,
            "grid_auto_flow": null,
            "grid_auto_rows": null,
            "grid_column": null,
            "grid_gap": null,
            "grid_row": null,
            "grid_template_areas": null,
            "grid_template_columns": null,
            "grid_template_rows": null,
            "height": null,
            "justify_content": null,
            "justify_items": null,
            "left": null,
            "margin": null,
            "max_height": null,
            "max_width": null,
            "min_height": null,
            "min_width": null,
            "object_fit": null,
            "object_position": null,
            "order": null,
            "overflow": null,
            "overflow_x": null,
            "overflow_y": null,
            "padding": null,
            "right": null,
            "top": null,
            "visibility": null,
            "width": null
          }
        },
        "72c2c8b77b69406383b8302cd62be228": {
          "model_module": "@jupyter-widgets/controls",
          "model_module_version": "1.5.0",
          "model_name": "HTMLModel",
          "state": {
            "_dom_classes": [],
            "_model_module": "@jupyter-widgets/controls",
            "_model_module_version": "1.5.0",
            "_model_name": "HTMLModel",
            "_view_count": null,
            "_view_module": "@jupyter-widgets/controls",
            "_view_module_version": "1.5.0",
            "_view_name": "HTMLView",
            "description": "",
            "description_tooltip": null,
            "layout": "IPY_MODEL_b88263a1aec4475b85cef90a8dc0d5aa",
            "placeholder": "​",
            "style": "IPY_MODEL_e3a60bc94caa498fb64a7bafdbfdc2ff",
            "value": "Generating train split: "
          }
        },
        "8c8987c85f0043c29564fb686a54d691": {
          "model_module": "@jupyter-widgets/controls",
          "model_module_version": "1.5.0",
          "model_name": "HBoxModel",
          "state": {
            "_dom_classes": [],
            "_model_module": "@jupyter-widgets/controls",
            "_model_module_version": "1.5.0",
            "_model_name": "HBoxModel",
            "_view_count": null,
            "_view_module": "@jupyter-widgets/controls",
            "_view_module_version": "1.5.0",
            "_view_name": "HBoxView",
            "box_style": "",
            "children": [
              "IPY_MODEL_4270bb9ece304a7eb378510da543854c",
              "IPY_MODEL_e4b682b323654215b87200c2c9a7e2ee",
              "IPY_MODEL_11a825510a714d258738c61dfb118e10"
            ],
            "layout": "IPY_MODEL_f89b90ad3d60413e96f0adb0e47d2833"
          }
        },
        "8da7437c9db046c397895f499f5bd5e8": {
          "model_module": "@jupyter-widgets/controls",
          "model_module_version": "1.5.0",
          "model_name": "DescriptionStyleModel",
          "state": {
            "_model_module": "@jupyter-widgets/controls",
            "_model_module_version": "1.5.0",
            "_model_name": "DescriptionStyleModel",
            "_view_count": null,
            "_view_module": "@jupyter-widgets/base",
            "_view_module_version": "1.2.0",
            "_view_name": "StyleView",
            "description_width": ""
          }
        },
        "999a7d9bcba24d46a25d02057687f39a": {
          "model_module": "@jupyter-widgets/controls",
          "model_module_version": "1.5.0",
          "model_name": "FloatProgressModel",
          "state": {
            "_dom_classes": [],
            "_model_module": "@jupyter-widgets/controls",
            "_model_module_version": "1.5.0",
            "_model_name": "FloatProgressModel",
            "_view_count": null,
            "_view_module": "@jupyter-widgets/controls",
            "_view_module_version": "1.5.0",
            "_view_name": "ProgressView",
            "bar_style": "success",
            "description": "",
            "description_tooltip": null,
            "layout": "IPY_MODEL_153d637fe14b4a37ab2cfd4b6e080027",
            "max": 1,
            "min": 0,
            "orientation": "horizontal",
            "style": "IPY_MODEL_5a8ebd92280647bfa9e0ecfdc684867d",
            "value": 1
          }
        },
        "a9bf716200c54200bfbde2c4837d93d4": {
          "model_module": "@jupyter-widgets/controls",
          "model_module_version": "1.5.0",
          "model_name": "ProgressStyleModel",
          "state": {
            "_model_module": "@jupyter-widgets/controls",
            "_model_module_version": "1.5.0",
            "_model_name": "ProgressStyleModel",
            "_view_count": null,
            "_view_module": "@jupyter-widgets/base",
            "_view_module_version": "1.2.0",
            "_view_name": "StyleView",
            "bar_color": null,
            "description_width": ""
          }
        },
        "b88263a1aec4475b85cef90a8dc0d5aa": {
          "model_module": "@jupyter-widgets/base",
          "model_module_version": "1.2.0",
          "model_name": "LayoutModel",
          "state": {
            "_model_module": "@jupyter-widgets/base",
            "_model_module_version": "1.2.0",
            "_model_name": "LayoutModel",
            "_view_count": null,
            "_view_module": "@jupyter-widgets/base",
            "_view_module_version": "1.2.0",
            "_view_name": "LayoutView",
            "align_content": null,
            "align_items": null,
            "align_self": null,
            "border": null,
            "bottom": null,
            "display": null,
            "flex": null,
            "flex_flow": null,
            "grid_area": null,
            "grid_auto_columns": null,
            "grid_auto_flow": null,
            "grid_auto_rows": null,
            "grid_column": null,
            "grid_gap": null,
            "grid_row": null,
            "grid_template_areas": null,
            "grid_template_columns": null,
            "grid_template_rows": null,
            "height": null,
            "justify_content": null,
            "justify_items": null,
            "left": null,
            "margin": null,
            "max_height": null,
            "max_width": null,
            "min_height": null,
            "min_width": null,
            "object_fit": null,
            "object_position": null,
            "order": null,
            "overflow": null,
            "overflow_x": null,
            "overflow_y": null,
            "padding": null,
            "right": null,
            "top": null,
            "visibility": null,
            "width": null
          }
        },
        "ce9fa2a359134cc0a76ce38b5031eec3": {
          "model_module": "@jupyter-widgets/controls",
          "model_module_version": "1.5.0",
          "model_name": "DescriptionStyleModel",
          "state": {
            "_model_module": "@jupyter-widgets/controls",
            "_model_module_version": "1.5.0",
            "_model_name": "DescriptionStyleModel",
            "_view_count": null,
            "_view_module": "@jupyter-widgets/base",
            "_view_module_version": "1.2.0",
            "_view_name": "StyleView",
            "description_width": ""
          }
        },
        "e3a60bc94caa498fb64a7bafdbfdc2ff": {
          "model_module": "@jupyter-widgets/controls",
          "model_module_version": "1.5.0",
          "model_name": "DescriptionStyleModel",
          "state": {
            "_model_module": "@jupyter-widgets/controls",
            "_model_module_version": "1.5.0",
            "_model_name": "DescriptionStyleModel",
            "_view_count": null,
            "_view_module": "@jupyter-widgets/base",
            "_view_module_version": "1.2.0",
            "_view_name": "StyleView",
            "description_width": ""
          }
        },
        "e4b682b323654215b87200c2c9a7e2ee": {
          "model_module": "@jupyter-widgets/controls",
          "model_module_version": "1.5.0",
          "model_name": "FloatProgressModel",
          "state": {
            "_dom_classes": [],
            "_model_module": "@jupyter-widgets/controls",
            "_model_module_version": "1.5.0",
            "_model_name": "FloatProgressModel",
            "_view_count": null,
            "_view_module": "@jupyter-widgets/controls",
            "_view_module_version": "1.5.0",
            "_view_name": "ProgressView",
            "bar_style": "success",
            "description": "",
            "description_tooltip": null,
            "layout": "IPY_MODEL_1747d027deae48d89b4f62f3690d2f88",
            "max": 21781196,
            "min": 0,
            "orientation": "horizontal",
            "style": "IPY_MODEL_a9bf716200c54200bfbde2c4837d93d4",
            "value": 21781196
          }
        },
        "e59291cdec7a4b679694aac0391c8f79": {
          "model_module": "@jupyter-widgets/base",
          "model_module_version": "1.2.0",
          "model_name": "LayoutModel",
          "state": {
            "_model_module": "@jupyter-widgets/base",
            "_model_module_version": "1.2.0",
            "_model_name": "LayoutModel",
            "_view_count": null,
            "_view_module": "@jupyter-widgets/base",
            "_view_module_version": "1.2.0",
            "_view_name": "LayoutView",
            "align_content": null,
            "align_items": null,
            "align_self": null,
            "border": null,
            "bottom": null,
            "display": null,
            "flex": null,
            "flex_flow": null,
            "grid_area": null,
            "grid_auto_columns": null,
            "grid_auto_flow": null,
            "grid_auto_rows": null,
            "grid_column": null,
            "grid_gap": null,
            "grid_row": null,
            "grid_template_areas": null,
            "grid_template_columns": null,
            "grid_template_rows": null,
            "height": null,
            "justify_content": null,
            "justify_items": null,
            "left": null,
            "margin": null,
            "max_height": null,
            "max_width": null,
            "min_height": null,
            "min_width": null,
            "object_fit": null,
            "object_position": null,
            "order": null,
            "overflow": null,
            "overflow_x": null,
            "overflow_y": null,
            "padding": null,
            "right": null,
            "top": null,
            "visibility": null,
            "width": null
          }
        },
        "f89b90ad3d60413e96f0adb0e47d2833": {
          "model_module": "@jupyter-widgets/base",
          "model_module_version": "1.2.0",
          "model_name": "LayoutModel",
          "state": {
            "_model_module": "@jupyter-widgets/base",
            "_model_module_version": "1.2.0",
            "_model_name": "LayoutModel",
            "_view_count": null,
            "_view_module": "@jupyter-widgets/base",
            "_view_module_version": "1.2.0",
            "_view_name": "LayoutView",
            "align_content": null,
            "align_items": null,
            "align_self": null,
            "border": null,
            "bottom": null,
            "display": null,
            "flex": null,
            "flex_flow": null,
            "grid_area": null,
            "grid_auto_columns": null,
            "grid_auto_flow": null,
            "grid_auto_rows": null,
            "grid_column": null,
            "grid_gap": null,
            "grid_row": null,
            "grid_template_areas": null,
            "grid_template_columns": null,
            "grid_template_rows": null,
            "height": null,
            "justify_content": null,
            "justify_items": null,
            "left": null,
            "margin": null,
            "max_height": null,
            "max_width": null,
            "min_height": null,
            "min_width": null,
            "object_fit": null,
            "object_position": null,
            "order": null,
            "overflow": null,
            "overflow_x": null,
            "overflow_y": null,
            "padding": null,
            "right": null,
            "top": null,
            "visibility": null,
            "width": null
          }
        }
      }
    }
  },
  "nbformat": 4,
  "nbformat_minor": 0
}
